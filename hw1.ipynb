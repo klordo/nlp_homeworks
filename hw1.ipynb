{
  "nbformat": 4,
  "nbformat_minor": 0,
  "metadata": {
    "colab": {
      "provenance": [],
      "authorship_tag": "ABX9TyP5X2eTMX8c+u38SDLjMSdq",
      "include_colab_link": true
    },
    "kernelspec": {
      "name": "python3",
      "display_name": "Python 3"
    },
    "language_info": {
      "name": "python"
    }
  },
  "cells": [
    {
      "cell_type": "markdown",
      "metadata": {
        "id": "view-in-github",
        "colab_type": "text"
      },
      "source": [
        "<a href=\"https://colab.research.google.com/github/klordo/nlp_homeworks/blob/hw1/hw1.ipynb\" target=\"_parent\"><img src=\"https://colab.research.google.com/assets/colab-badge.svg\" alt=\"Open In Colab\"/></a>"
      ]
    },
    {
      "cell_type": "code",
      "execution_count": null,
      "metadata": {
        "id": "zBUcjVc9gLcM"
      },
      "outputs": [],
      "source": [
        "!pip install corus"
      ]
    },
    {
      "cell_type": "code",
      "source": [
        "!wget https://github.com/yutkin/Lenta.Ru-News-Dataset/releases/download/v1.1/lenta-ru-news.csv.bz2"
      ],
      "metadata": {
        "id": "2o8Fwc2E1Fr2"
      },
      "execution_count": null,
      "outputs": []
    },
    {
      "cell_type": "code",
      "source": [
        "!pip install clean-text"
      ],
      "metadata": {
        "id": "uTc4iorOeg-w"
      },
      "execution_count": null,
      "outputs": []
    },
    {
      "cell_type": "code",
      "source": [
        "!pip install pymorphy2"
      ],
      "metadata": {
        "id": "RXDK7YxoaOOi"
      },
      "execution_count": null,
      "outputs": []
    },
    {
      "cell_type": "code",
      "source": [
        "!python3 -m spacy download ru_core_news_sm"
      ],
      "metadata": {
        "id": "6RwiOA45jKh8"
      },
      "execution_count": null,
      "outputs": []
    },
    {
      "cell_type": "code",
      "source": [
        "!pip install wordninja"
      ],
      "metadata": {
        "id": "asnICNOJT9PY"
      },
      "execution_count": null,
      "outputs": []
    },
    {
      "cell_type": "code",
      "source": [
        "from corus import load_lenta2\n",
        "from cleantext import replace_emails, replace_numbers, replace_urls\n",
        "from nltk.tokenize import sent_tokenize, word_tokenize\n",
        "import nltk\n",
        "import pymorphy2\n",
        "import spacy\n",
        "import wordninja\n",
        "import re"
      ],
      "metadata": {
        "id": "2pPoA8lItiM-"
      },
      "execution_count": null,
      "outputs": []
    },
    {
      "cell_type": "code",
      "source": [
        "path = 'lenta-ru-news.csv.bz2'\n",
        "records = load_lenta2(path)"
      ],
      "metadata": {
        "id": "zGaOrytlTsE-"
      },
      "execution_count": 8,
      "outputs": []
    },
    {
      "cell_type": "code",
      "source": [
        "dataset = [next(records).text for i in range(1000)]\n",
        "dataset[0]"
      ],
      "metadata": {
        "colab": {
          "base_uri": "https://localhost:8080/",
          "height": 157
        },
        "id": "cuwIoqnd_EzO",
        "outputId": "c98f4511-9f39-4334-cd92-ad566d0ba169"
      },
      "execution_count": 9,
      "outputs": [
        {
          "output_type": "execute_result",
          "data": {
            "text/plain": [
              "'Бои у Сопоцкина и Друскеник закончились отступлением германцев. Неприятель, приблизившись с севера к Осовцу начал артиллерийскую борьбу с крепостью. В артиллерийском бою принимают участие тяжелые калибры. С раннего утра 14 сентября огонь достиг значительного напряжения. Попытка германской пехоты пробиться ближе к крепости отражена. В Галиции мы заняли Дембицу. Большая колонна, отступавшая по шоссе от Перемышля к Саноку, обстреливалась с высот нашей батареей и бежала, бросив парки, обоз и автомобили. Вылазки гарнизона Перемышля остаются безуспешными. При продолжающемся отступлении австрийцев обнаруживается полное перемешивание их частей, захватываются новые партии пленных, орудия и прочая материальная часть. На перевале Ужок мы разбили неприятельский отряд, взяли его артиллерию и много пленных и, продолжая преследовать, вступили в пределы Венгрии. «Русский инвалид», 16 сентября 1914 года.'"
            ],
            "application/vnd.google.colaboratory.intrinsic+json": {
              "type": "string"
            }
          },
          "metadata": {},
          "execution_count": 9
        }
      ]
    },
    {
      "cell_type": "code",
      "source": [
        "dataset_clean = dataset.copy()\n",
        "dataset_clean = [replace_emails(text, ' email ') for text in dataset_clean]\n",
        "dataset_clean = [replace_numbers(text, ' number ') for text in dataset_clean]\n",
        "dataset_clean = [replace_urls(text, ' url ') for text in dataset_clean]"
      ],
      "metadata": {
        "id": "eRAfWggF84Dy"
      },
      "execution_count": 10,
      "outputs": []
    },
    {
      "cell_type": "code",
      "source": [
        "symbols = set()\n",
        "for text in dataset_clean:\n",
        "    for char in text:\n",
        "        if not char.isalpha() and not char.isdigit() and char not in ' .,!?':\n",
        "            symbols.add(char)\n",
        "symbols"
      ],
      "metadata": {
        "colab": {
          "base_uri": "https://localhost:8080/"
        },
        "id": "AmtJAa-GTybS",
        "outputId": "b46a488d-f3ae-4ad8-a949-055b11b92f75"
      },
      "execution_count": 11,
      "outputs": [
        {
          "output_type": "execute_result",
          "data": {
            "text/plain": [
              "{'\"',\n",
              " '$',\n",
              " '%',\n",
              " '&',\n",
              " \"'\",\n",
              " '(',\n",
              " ')',\n",
              " '*',\n",
              " '+',\n",
              " '-',\n",
              " '/',\n",
              " ':',\n",
              " ';',\n",
              " '=',\n",
              " '\\xa0',\n",
              " '«',\n",
              " '»',\n",
              " '–',\n",
              " '—',\n",
              " '’',\n",
              " '…',\n",
              " '№'}"
            ]
          },
          "metadata": {},
          "execution_count": 11
        }
      ]
    },
    {
      "cell_type": "code",
      "source": [
        "pattern = r'[^\\w\\s\\d.,!?]+'\n",
        "dataset_clean = [re.sub(pattern, '', text) for text in dataset_clean]"
      ],
      "metadata": {
        "id": "222Dvy9K0fAX"
      },
      "execution_count": 12,
      "outputs": []
    },
    {
      "cell_type": "code",
      "source": [
        "dataset_clean[0]"
      ],
      "metadata": {
        "colab": {
          "base_uri": "https://localhost:8080/",
          "height": 157
        },
        "id": "rRVggkdK145b",
        "outputId": "2bc91c6f-f12d-4446-db69-60058e9270a6"
      },
      "execution_count": 13,
      "outputs": [
        {
          "output_type": "execute_result",
          "data": {
            "text/plain": [
              "'Бои у Сопоцкина и Друскеник закончились отступлением германцев. Неприятель, приблизившись с севера к Осовцу начал артиллерийскую борьбу с крепостью. В артиллерийском бою принимают участие тяжелые калибры. С раннего утра  number  сентября огонь достиг значительного напряжения. Попытка германской пехоты пробиться ближе к крепости отражена. В Галиции мы заняли Дембицу. Большая колонна, отступавшая по шоссе от Перемышля к Саноку, обстреливалась с высот нашей батареей и бежала, бросив парки, обоз и автомобили. Вылазки гарнизона Перемышля остаются безуспешными. При продолжающемся отступлении австрийцев обнаруживается полное перемешивание их частей, захватываются новые партии пленных, орудия и прочая материальная часть. На перевале Ужок мы разбили неприятельский отряд, взяли его артиллерию и много пленных и, продолжая преследовать, вступили в пределы Венгрии. Русский инвалид,  number  сентября  number  года.'"
            ],
            "application/vnd.google.colaboratory.intrinsic+json": {
              "type": "string"
            }
          },
          "metadata": {},
          "execution_count": 13
        }
      ]
    },
    {
      "cell_type": "markdown",
      "source": [
        "nltk и pymorphy2"
      ],
      "metadata": {
        "id": "YPJr1AajtNhp"
      }
    },
    {
      "cell_type": "code",
      "source": [
        "nltk.download('punkt')"
      ],
      "metadata": {
        "colab": {
          "base_uri": "https://localhost:8080/"
        },
        "id": "rdUM092dCf5n",
        "outputId": "ab06c56b-cdbb-41a5-bd73-c5522a86e170"
      },
      "execution_count": 14,
      "outputs": [
        {
          "output_type": "stream",
          "name": "stderr",
          "text": [
            "[nltk_data] Downloading package punkt to /root/nltk_data...\n",
            "[nltk_data]   Unzipping tokenizers/punkt.zip.\n"
          ]
        },
        {
          "output_type": "execute_result",
          "data": {
            "text/plain": [
              "True"
            ]
          },
          "metadata": {},
          "execution_count": 14
        }
      ]
    },
    {
      "cell_type": "code",
      "source": [
        "dataset_tokenized = [[word_tokenize(sent, language='russian') for sent in sent_tokenize(text, language='russian')] for text in dataset_clean]\n",
        "dataset_tokenized[0][:2]"
      ],
      "metadata": {
        "colab": {
          "base_uri": "https://localhost:8080/"
        },
        "id": "_IDEzzjYcfwU",
        "outputId": "b712ed46-59c3-43a4-c9bb-9d25a39c7120"
      },
      "execution_count": 15,
      "outputs": [
        {
          "output_type": "execute_result",
          "data": {
            "text/plain": [
              "[['Бои',\n",
              "  'у',\n",
              "  'Сопоцкина',\n",
              "  'и',\n",
              "  'Друскеник',\n",
              "  'закончились',\n",
              "  'отступлением',\n",
              "  'германцев',\n",
              "  '.'],\n",
              " ['Неприятель',\n",
              "  ',',\n",
              "  'приблизившись',\n",
              "  'с',\n",
              "  'севера',\n",
              "  'к',\n",
              "  'Осовцу',\n",
              "  'начал',\n",
              "  'артиллерийскую',\n",
              "  'борьбу',\n",
              "  'с',\n",
              "  'крепостью',\n",
              "  '.']]"
            ]
          },
          "metadata": {},
          "execution_count": 15
        }
      ]
    },
    {
      "cell_type": "code",
      "source": [
        "morph = pymorphy2.MorphAnalyzer()"
      ],
      "metadata": {
        "id": "czWHoBATa9tu"
      },
      "execution_count": 16,
      "outputs": []
    },
    {
      "cell_type": "code",
      "source": [
        "dataset_lemmatized = [[[morph.parse(word)[0].normal_form for word in sent] for sent in text] for text in dataset_tokenized]"
      ],
      "metadata": {
        "id": "OkHlsXtjgX9U"
      },
      "execution_count": 17,
      "outputs": []
    },
    {
      "cell_type": "code",
      "source": [
        "dataset_lemmatized[0][:2]"
      ],
      "metadata": {
        "colab": {
          "base_uri": "https://localhost:8080/"
        },
        "id": "rNbQ_zgqhUQ0",
        "outputId": "faadce2a-33e7-49d7-c0ed-c28084c7f59f"
      },
      "execution_count": 18,
      "outputs": [
        {
          "output_type": "execute_result",
          "data": {
            "text/plain": [
              "[['бой',\n",
              "  'у',\n",
              "  'сопоцкина',\n",
              "  'и',\n",
              "  'друскеник',\n",
              "  'закончиться',\n",
              "  'отступление',\n",
              "  'германец',\n",
              "  '.'],\n",
              " ['неприятель',\n",
              "  ',',\n",
              "  'приблизиться',\n",
              "  'с',\n",
              "  'север',\n",
              "  'к',\n",
              "  'осовца',\n",
              "  'начать',\n",
              "  'артиллерийский',\n",
              "  'борьба',\n",
              "  'с',\n",
              "  'крепость',\n",
              "  '.']]"
            ]
          },
          "metadata": {},
          "execution_count": 18
        }
      ]
    },
    {
      "cell_type": "markdown",
      "source": [
        "Вариант с помощью spacy для токенизации, лемматизации и удаления стоп слов."
      ],
      "metadata": {
        "id": "dpzXFGWuuGBQ"
      }
    },
    {
      "cell_type": "code",
      "source": [
        "nlp = spacy.load(\"ru_core_news_sm\")"
      ],
      "metadata": {
        "id": "KMjKNyQMjPXP"
      },
      "execution_count": 19,
      "outputs": []
    },
    {
      "cell_type": "code",
      "source": [
        "dataset_doc = [[token.lemma_ for token in nlp(doc) if not token.is_stop] for doc in dataset_clean]"
      ],
      "metadata": {
        "id": "36lShg_BkNab"
      },
      "execution_count": 20,
      "outputs": []
    },
    {
      "cell_type": "code",
      "source": [
        "dataset_doc[0][:10]"
      ],
      "metadata": {
        "colab": {
          "base_uri": "https://localhost:8080/"
        },
        "id": "yCqtA4DSodMB",
        "outputId": "7fedf423-9f08-46c9-f9fb-a8493fe97e43"
      },
      "execution_count": 21,
      "outputs": [
        {
          "output_type": "execute_result",
          "data": {
            "text/plain": [
              "['бой',\n",
              " 'сопоцкина',\n",
              " 'друскеник',\n",
              " 'закончиться',\n",
              " 'отступление',\n",
              " 'германец',\n",
              " '.',\n",
              " 'неприятель',\n",
              " ',',\n",
              " 'приблизиться']"
            ]
          },
          "metadata": {},
          "execution_count": 21
        }
      ]
    },
    {
      "cell_type": "code",
      "source": [
        "bad_tokens = set()\n",
        "for i, text in enumerate(dataset_doc):\n",
        "    for word in text:\n",
        "        if re.search(r'[^a-zA-Zа-яА-ЯёЁ]', word) and word not in '.,!?':\n",
        "            bad_tokens.add(word)\n",
        "\n",
        "list(bad_tokens)[:20]"
      ],
      "metadata": {
        "colab": {
          "base_uri": "https://localhost:8080/"
        },
        "id": "S5Od878jNgU8",
        "outputId": "bcc18ff7-c221-47be-9f7e-c226e832fb0f"
      },
      "execution_count": 22,
      "outputs": [
        {
          "output_type": "execute_result",
          "data": {
            "text/plain": [
              "['в1995',\n",
              " 'townpages.net',\n",
              " '54человека',\n",
              " 'ноября1997',\n",
              " 'с.г',\n",
              " 'бизнеса.намерено',\n",
              " 'ipv6',\n",
              " 'границу,436',\n",
              " '.rar',\n",
              " '12лет',\n",
              " 'отметилд.якушкин',\n",
              " 'а.',\n",
              " 'n308rp',\n",
              " 'мрс091на',\n",
              " '.com',\n",
              " 'ст.',\n",
              " 'а.кравец',\n",
              " '5оо',\n",
              " 'в.христенко',\n",
              " 'мюнстера25']"
            ]
          },
          "metadata": {},
          "execution_count": 22
        }
      ]
    },
    {
      "cell_type": "markdown",
      "source": [
        "Решил убрать плохие токены. Либо детально очищать текст, либо потерять часть информации. Я выбрал второе. Таких токенов по сравнению с размером датасета в целом не так много."
      ],
      "metadata": {
        "id": "2W_jb_7Q6MBY"
      }
    },
    {
      "cell_type": "code",
      "source": [
        "dataset_doc = [[word for word in text if word not in bad_tokens] for text in dataset_doc]"
      ],
      "metadata": {
        "id": "rbrpGSxQ6J8D"
      },
      "execution_count": 23,
      "outputs": []
    },
    {
      "cell_type": "markdown",
      "source": [
        "По проблеме слов без пробелов.\n",
        "\n",
        "Использовал словарь с семинара, но многие слова некорректно делились, видимо из-за того, что многих специфичных и не очень слов в словаре не было."
      ],
      "metadata": {
        "id": "taJ3uuHT5ijF"
      }
    }
  ]
}