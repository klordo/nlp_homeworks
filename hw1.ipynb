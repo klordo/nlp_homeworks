{
  "nbformat": 4,
  "nbformat_minor": 0,
  "metadata": {
    "colab": {
      "provenance": [],
      "authorship_tag": "ABX9TyOvV36rjql9tRQUWeISvawi",
      "include_colab_link": true
    },
    "kernelspec": {
      "name": "python3",
      "display_name": "Python 3"
    },
    "language_info": {
      "name": "python"
    }
  },
  "cells": [
    {
      "cell_type": "markdown",
      "metadata": {
        "id": "view-in-github",
        "colab_type": "text"
      },
      "source": [
        "<a href=\"https://colab.research.google.com/github/klordo/nlp_homeworks/blob/hw1/hw1.ipynb\" target=\"_parent\"><img src=\"https://colab.research.google.com/assets/colab-badge.svg\" alt=\"Open In Colab\"/></a>"
      ]
    },
    {
      "cell_type": "code",
      "execution_count": null,
      "metadata": {
        "id": "zBUcjVc9gLcM"
      },
      "outputs": [],
      "source": [
        "!pip install corus"
      ]
    },
    {
      "cell_type": "code",
      "source": [
        "!wget https://github.com/yutkin/Lenta.Ru-News-Dataset/releases/download/v1.1/lenta-ru-news.csv.bz2"
      ],
      "metadata": {
        "id": "2o8Fwc2E1Fr2"
      },
      "execution_count": null,
      "outputs": []
    },
    {
      "cell_type": "code",
      "source": [
        "!pip install clean-text"
      ],
      "metadata": {
        "id": "uTc4iorOeg-w"
      },
      "execution_count": null,
      "outputs": []
    },
    {
      "cell_type": "code",
      "source": [
        "!pip install pymorphy2"
      ],
      "metadata": {
        "id": "RXDK7YxoaOOi"
      },
      "execution_count": null,
      "outputs": []
    },
    {
      "cell_type": "code",
      "source": [
        "!python3 -m spacy download ru_core_news_sm"
      ],
      "metadata": {
        "id": "6RwiOA45jKh8"
      },
      "execution_count": null,
      "outputs": []
    },
    {
      "cell_type": "code",
      "source": [
        "!pip install wordninja"
      ],
      "metadata": {
        "id": "asnICNOJT9PY"
      },
      "execution_count": null,
      "outputs": []
    },
    {
      "cell_type": "code",
      "source": [
        "from corus import load_lenta2\n",
        "from cleantext import replace_emails, replace_numbers, replace_urls\n",
        "from nltk.tokenize import sent_tokenize, word_tokenize\n",
        "import nltk\n",
        "import pymorphy2\n",
        "import spacy\n",
        "import wordninja\n",
        "import re"
      ],
      "metadata": {
        "id": "2pPoA8lItiM-"
      },
      "execution_count": null,
      "outputs": []
    },
    {
      "cell_type": "code",
      "source": [
        "nltk.download('punkt')"
      ],
      "metadata": {
        "colab": {
          "base_uri": "https://localhost:8080/"
        },
        "id": "Z7GuAVzAkyZ7",
        "outputId": "fbde9e58-b04b-4865-a7dd-4be055b4e211"
      },
      "execution_count": 8,
      "outputs": [
        {
          "output_type": "stream",
          "name": "stderr",
          "text": [
            "[nltk_data] Downloading package punkt to /root/nltk_data...\n",
            "[nltk_data]   Package punkt is already up-to-date!\n"
          ]
        },
        {
          "output_type": "execute_result",
          "data": {
            "text/plain": [
              "True"
            ]
          },
          "metadata": {},
          "execution_count": 8
        }
      ]
    },
    {
      "cell_type": "code",
      "source": [
        "path = 'lenta-ru-news.csv.bz2'\n",
        "records = load_lenta2(path)"
      ],
      "metadata": {
        "id": "zGaOrytlTsE-"
      },
      "execution_count": 9,
      "outputs": []
    },
    {
      "cell_type": "code",
      "source": [
        "dataset = [next(records).text for i in range(1000)]\n",
        "dataset[0]"
      ],
      "metadata": {
        "colab": {
          "base_uri": "https://localhost:8080/",
          "height": 157
        },
        "id": "cuwIoqnd_EzO",
        "outputId": "5d520b19-23f4-4004-a46b-8318ca04ef5d"
      },
      "execution_count": 10,
      "outputs": [
        {
          "output_type": "execute_result",
          "data": {
            "text/plain": [
              "'Бои у Сопоцкина и Друскеник закончились отступлением германцев. Неприятель, приблизившись с севера к Осовцу начал артиллерийскую борьбу с крепостью. В артиллерийском бою принимают участие тяжелые калибры. С раннего утра 14 сентября огонь достиг значительного напряжения. Попытка германской пехоты пробиться ближе к крепости отражена. В Галиции мы заняли Дембицу. Большая колонна, отступавшая по шоссе от Перемышля к Саноку, обстреливалась с высот нашей батареей и бежала, бросив парки, обоз и автомобили. Вылазки гарнизона Перемышля остаются безуспешными. При продолжающемся отступлении австрийцев обнаруживается полное перемешивание их частей, захватываются новые партии пленных, орудия и прочая материальная часть. На перевале Ужок мы разбили неприятельский отряд, взяли его артиллерию и много пленных и, продолжая преследовать, вступили в пределы Венгрии. «Русский инвалид», 16 сентября 1914 года.'"
            ],
            "application/vnd.google.colaboratory.intrinsic+json": {
              "type": "string"
            }
          },
          "metadata": {},
          "execution_count": 10
        }
      ]
    },
    {
      "cell_type": "code",
      "source": [
        "dataset_clean = dataset.copy()\n",
        "dataset_clean = [replace_emails(text, ' email ') for text in dataset_clean]\n",
        "dataset_clean = [replace_numbers(text, ' number ') for text in dataset_clean]\n",
        "dataset_clean = [replace_urls(text, ' url ') for text in dataset_clean]"
      ],
      "metadata": {
        "id": "eRAfWggF84Dy"
      },
      "execution_count": 11,
      "outputs": []
    },
    {
      "cell_type": "code",
      "source": [
        "symbols = set()\n",
        "for text in dataset_clean:\n",
        "    for char in text:\n",
        "        if not char.isalpha() and not char.isdigit() and char not in ' .,!?':\n",
        "            symbols.add(char)\n",
        "symbols"
      ],
      "metadata": {
        "colab": {
          "base_uri": "https://localhost:8080/"
        },
        "id": "AmtJAa-GTybS",
        "outputId": "956dc988-65ab-4942-9051-ccd15fbea208"
      },
      "execution_count": 12,
      "outputs": [
        {
          "output_type": "execute_result",
          "data": {
            "text/plain": [
              "{'\"',\n",
              " '$',\n",
              " '%',\n",
              " '&',\n",
              " \"'\",\n",
              " '(',\n",
              " ')',\n",
              " '*',\n",
              " '+',\n",
              " '-',\n",
              " '/',\n",
              " ':',\n",
              " ';',\n",
              " '=',\n",
              " '\\xa0',\n",
              " '«',\n",
              " '»',\n",
              " '–',\n",
              " '—',\n",
              " '’',\n",
              " '…',\n",
              " '№'}"
            ]
          },
          "metadata": {},
          "execution_count": 12
        }
      ]
    },
    {
      "cell_type": "code",
      "source": [
        "pattern = r'[^\\w\\s\\d.,!?]+'\n",
        "dataset_clean = [re.sub(pattern, '', text) for text in dataset_clean]"
      ],
      "metadata": {
        "id": "222Dvy9K0fAX"
      },
      "execution_count": 13,
      "outputs": []
    },
    {
      "cell_type": "code",
      "source": [
        "dataset_clean[0]"
      ],
      "metadata": {
        "colab": {
          "base_uri": "https://localhost:8080/",
          "height": 157
        },
        "id": "rRVggkdK145b",
        "outputId": "ab0eb3d6-b3d9-480a-c4c7-569d928dd9b7"
      },
      "execution_count": 14,
      "outputs": [
        {
          "output_type": "execute_result",
          "data": {
            "text/plain": [
              "'Бои у Сопоцкина и Друскеник закончились отступлением германцев. Неприятель, приблизившись с севера к Осовцу начал артиллерийскую борьбу с крепостью. В артиллерийском бою принимают участие тяжелые калибры. С раннего утра  number  сентября огонь достиг значительного напряжения. Попытка германской пехоты пробиться ближе к крепости отражена. В Галиции мы заняли Дембицу. Большая колонна, отступавшая по шоссе от Перемышля к Саноку, обстреливалась с высот нашей батареей и бежала, бросив парки, обоз и автомобили. Вылазки гарнизона Перемышля остаются безуспешными. При продолжающемся отступлении австрийцев обнаруживается полное перемешивание их частей, захватываются новые партии пленных, орудия и прочая материальная часть. На перевале Ужок мы разбили неприятельский отряд, взяли его артиллерию и много пленных и, продолжая преследовать, вступили в пределы Венгрии. Русский инвалид,  number  сентября  number  года.'"
            ],
            "application/vnd.google.colaboratory.intrinsic+json": {
              "type": "string"
            }
          },
          "metadata": {},
          "execution_count": 14
        }
      ]
    },
    {
      "cell_type": "markdown",
      "source": [
        "nltk и pymorphy2"
      ],
      "metadata": {
        "id": "YPJr1AajtNhp"
      }
    },
    {
      "cell_type": "code",
      "source": [
        "dataset_tokenized = [[word_tokenize(sent, language='russian') for sent in sent_tokenize(text, language='russian')] for text in dataset_clean]\n",
        "dataset_tokenized[0][:2]"
      ],
      "metadata": {
        "colab": {
          "base_uri": "https://localhost:8080/"
        },
        "id": "_IDEzzjYcfwU",
        "outputId": "1e0589b2-4c09-4687-da20-1443a746147a"
      },
      "execution_count": 15,
      "outputs": [
        {
          "output_type": "execute_result",
          "data": {
            "text/plain": [
              "[['Бои',\n",
              "  'у',\n",
              "  'Сопоцкина',\n",
              "  'и',\n",
              "  'Друскеник',\n",
              "  'закончились',\n",
              "  'отступлением',\n",
              "  'германцев',\n",
              "  '.'],\n",
              " ['Неприятель',\n",
              "  ',',\n",
              "  'приблизившись',\n",
              "  'с',\n",
              "  'севера',\n",
              "  'к',\n",
              "  'Осовцу',\n",
              "  'начал',\n",
              "  'артиллерийскую',\n",
              "  'борьбу',\n",
              "  'с',\n",
              "  'крепостью',\n",
              "  '.']]"
            ]
          },
          "metadata": {},
          "execution_count": 15
        }
      ]
    },
    {
      "cell_type": "code",
      "source": [
        "morph = pymorphy2.MorphAnalyzer()"
      ],
      "metadata": {
        "id": "czWHoBATa9tu"
      },
      "execution_count": 16,
      "outputs": []
    },
    {
      "cell_type": "code",
      "source": [
        "dataset_lemmatized = [[[morph.parse(word)[0].normal_form for word in sent] for sent in text] for text in dataset_tokenized]"
      ],
      "metadata": {
        "id": "OkHlsXtjgX9U"
      },
      "execution_count": 17,
      "outputs": []
    },
    {
      "cell_type": "code",
      "source": [
        "dataset_lemmatized[0][:2]"
      ],
      "metadata": {
        "colab": {
          "base_uri": "https://localhost:8080/"
        },
        "id": "rNbQ_zgqhUQ0",
        "outputId": "0bd158a9-20f7-4392-f466-a9f5d8e498e5"
      },
      "execution_count": 18,
      "outputs": [
        {
          "output_type": "execute_result",
          "data": {
            "text/plain": [
              "[['бой',\n",
              "  'у',\n",
              "  'сопоцкина',\n",
              "  'и',\n",
              "  'друскеник',\n",
              "  'закончиться',\n",
              "  'отступление',\n",
              "  'германец',\n",
              "  '.'],\n",
              " ['неприятель',\n",
              "  ',',\n",
              "  'приблизиться',\n",
              "  'с',\n",
              "  'север',\n",
              "  'к',\n",
              "  'осовца',\n",
              "  'начать',\n",
              "  'артиллерийский',\n",
              "  'борьба',\n",
              "  'с',\n",
              "  'крепость',\n",
              "  '.']]"
            ]
          },
          "metadata": {},
          "execution_count": 18
        }
      ]
    },
    {
      "cell_type": "markdown",
      "source": [
        "Вариант с помощью spacy для токенизации, лемматизации и удаления стоп слов."
      ],
      "metadata": {
        "id": "dpzXFGWuuGBQ"
      }
    },
    {
      "cell_type": "code",
      "source": [
        "nlp = spacy.load(\"ru_core_news_sm\")"
      ],
      "metadata": {
        "id": "KMjKNyQMjPXP"
      },
      "execution_count": 19,
      "outputs": []
    },
    {
      "cell_type": "code",
      "source": [
        "dataset_doc = [[token.lemma_ for token in nlp(doc) if not token.is_stop] for doc in dataset_clean]"
      ],
      "metadata": {
        "id": "36lShg_BkNab"
      },
      "execution_count": 20,
      "outputs": []
    },
    {
      "cell_type": "code",
      "source": [
        "dataset_doc[0][:10]"
      ],
      "metadata": {
        "colab": {
          "base_uri": "https://localhost:8080/"
        },
        "id": "yCqtA4DSodMB",
        "outputId": "a393cbbd-6a13-41ff-a1f3-5a9564b6196c"
      },
      "execution_count": 21,
      "outputs": [
        {
          "output_type": "execute_result",
          "data": {
            "text/plain": [
              "['бой',\n",
              " 'сопоцкина',\n",
              " 'друскеник',\n",
              " 'закончиться',\n",
              " 'отступление',\n",
              " 'германец',\n",
              " '.',\n",
              " 'неприятель',\n",
              " ',',\n",
              " 'приблизиться']"
            ]
          },
          "metadata": {},
          "execution_count": 21
        }
      ]
    },
    {
      "cell_type": "code",
      "source": [
        "bad_tokens = set()\n",
        "for i, text in enumerate(dataset_doc):\n",
        "    for word in text:\n",
        "        if re.search(r'[^a-zA-Zа-яА-ЯёЁ]', word) and word not in '.,!?':\n",
        "            bad_tokens.add(word)\n",
        "\n",
        "list(bad_tokens)[:20]"
      ],
      "metadata": {
        "colab": {
          "base_uri": "https://localhost:8080/"
        },
        "id": "S5Od878jNgU8",
        "outputId": "9a396b77-716e-4f13-b867-da6fe7b9c7ed"
      },
      "execution_count": 22,
      "outputs": [
        {
          "output_type": "execute_result",
          "data": {
            "text/plain": [
              "['95полетов',\n",
              " 'огарева,6',\n",
              " 'в.матвиенко',\n",
              " 'в20',\n",
              " '.zip',\n",
              " 'границу,436',\n",
              " 'а.',\n",
              " '12сентября',\n",
              " 'ил76',\n",
              " '.com',\n",
              " 'составляет61',\n",
              " 'января1999',\n",
              " 'suppl.doc',\n",
              " 'сб.',\n",
              " '.237пунктов',\n",
              " 'мюнстера25',\n",
              " '92миллиардов',\n",
              " 'в.у.',\n",
              " '...',\n",
              " 'п.бородин']"
            ]
          },
          "metadata": {},
          "execution_count": 22
        }
      ]
    },
    {
      "cell_type": "markdown",
      "source": [
        "Решил убрать плохие токены. Либо детально очищать текст, либо потерять часть информации. Я выбрал второе. Таких токенов по сравнению с размером датасета в целом не так много."
      ],
      "metadata": {
        "id": "2W_jb_7Q6MBY"
      }
    },
    {
      "cell_type": "code",
      "source": [
        "dataset_doc = [[word for word in text if word not in bad_tokens] for text in dataset_doc]"
      ],
      "metadata": {
        "id": "rbrpGSxQ6J8D"
      },
      "execution_count": 23,
      "outputs": []
    },
    {
      "cell_type": "markdown",
      "source": [
        "По проблеме слов без пробелов.\n",
        "\n",
        "Использовал словарь с семинара, но многие слова некорректно делились, видимо из-за того, что многих специфичных и не очень слов в словаре не было."
      ],
      "metadata": {
        "id": "taJ3uuHT5ijF"
      }
    }
  ]
}