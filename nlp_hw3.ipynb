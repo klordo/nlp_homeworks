{
  "nbformat": 4,
  "nbformat_minor": 0,
  "metadata": {
    "colab": {
      "provenance": [],
      "toc_visible": true,
      "include_colab_link": true
    },
    "kernelspec": {
      "name": "python3",
      "display_name": "Python 3"
    },
    "language_info": {
      "name": "python"
    }
  },
  "cells": [
    {
      "cell_type": "markdown",
      "metadata": {
        "id": "view-in-github",
        "colab_type": "text"
      },
      "source": [
        "<a href=\"https://colab.research.google.com/github/klordo/nlp_homeworks/blob/hw3/nlp_hw3.ipynb\" target=\"_parent\"><img src=\"https://colab.research.google.com/assets/colab-badge.svg\" alt=\"Open In Colab\"/></a>"
      ]
    },
    {
      "cell_type": "markdown",
      "source": [
        "#  Предустановки"
      ],
      "metadata": {
        "id": "Sqy0xZ83ybsD"
      }
    },
    {
      "cell_type": "code",
      "source": [
        "!pip install -U pip setuptools wheel\n",
        "!pip install -U spacy\n",
        "!pip install fasttext"
      ],
      "metadata": {
        "id": "bcg8hYGnxpKY"
      },
      "execution_count": null,
      "outputs": []
    },
    {
      "cell_type": "code",
      "execution_count": 2,
      "metadata": {
        "id": "HQvirx-0wCKk"
      },
      "outputs": [],
      "source": [
        "import pandas as pd\n",
        "import numpy as np\n",
        "import spacy\n",
        "import gensim\n",
        "import fasttext\n",
        "import warnings\n",
        "\n",
        "# from sklearn.experimental import enable_halving_search_cv # разрешаем использование эксперементальных функций\n",
        "from sklearn.model_selection import train_test_split\n",
        "from sklearn.pipeline import Pipeline\n",
        "from sklearn.linear_model import LogisticRegression\n",
        "from sklearn.metrics import classification_report\n",
        "from sklearn.base import BaseEstimator, TransformerMixin"
      ]
    },
    {
      "cell_type": "code",
      "source": [
        "warnings.simplefilter(action='ignore', category=FutureWarning)"
      ],
      "metadata": {
        "id": "5E01X0EzyaRk"
      },
      "execution_count": 3,
      "outputs": []
    },
    {
      "cell_type": "code",
      "source": [
        "RANDOM_STATE = 1000 - 7"
      ],
      "metadata": {
        "id": "u3i5IMB_zOnK"
      },
      "execution_count": 4,
      "outputs": []
    },
    {
      "cell_type": "markdown",
      "source": [
        "# Подготовка датасета"
      ],
      "metadata": {
        "id": "3xNXBmCWyenN"
      }
    },
    {
      "cell_type": "code",
      "source": [
        "df = pd.read_csv('spam_or_not_spam.csv', encoding='iso-8859-1').rename(columns={'email': 'text'})"
      ],
      "metadata": {
        "id": "A0p9JCAkxBp4"
      },
      "execution_count": 5,
      "outputs": []
    },
    {
      "cell_type": "code",
      "source": [
        "df.sample(5)"
      ],
      "metadata": {
        "colab": {
          "base_uri": "https://localhost:8080/",
          "height": 206
        },
        "id": "DEXDIcUQxDz7",
        "outputId": "039a3bf7-cb18-4101-febb-0913b651cdee"
      },
      "execution_count": 6,
      "outputs": [
        {
          "output_type": "execute_result",
          "data": {
            "text/plain": [
              "                                                   text  label\n",
              "1094  once upon a time harri wrote on wed feb NUMBER...      0\n",
              "2879   hyperlink never pay retail unleash your pc s ...      1\n",
              "610   at fermi yes i m back there long story we re b...      0\n",
              "965    from brent welch welch panasas com date wed N...      0\n",
              "202   philip reynolds wrote does anyone know how to ...      0"
            ],
            "text/html": [
              "\n",
              "  <div id=\"df-eacc73ec-5e9e-4c08-ac61-e4800dbccd5e\" class=\"colab-df-container\">\n",
              "    <div>\n",
              "<style scoped>\n",
              "    .dataframe tbody tr th:only-of-type {\n",
              "        vertical-align: middle;\n",
              "    }\n",
              "\n",
              "    .dataframe tbody tr th {\n",
              "        vertical-align: top;\n",
              "    }\n",
              "\n",
              "    .dataframe thead th {\n",
              "        text-align: right;\n",
              "    }\n",
              "</style>\n",
              "<table border=\"1\" class=\"dataframe\">\n",
              "  <thead>\n",
              "    <tr style=\"text-align: right;\">\n",
              "      <th></th>\n",
              "      <th>text</th>\n",
              "      <th>label</th>\n",
              "    </tr>\n",
              "  </thead>\n",
              "  <tbody>\n",
              "    <tr>\n",
              "      <th>1094</th>\n",
              "      <td>once upon a time harri wrote on wed feb NUMBER...</td>\n",
              "      <td>0</td>\n",
              "    </tr>\n",
              "    <tr>\n",
              "      <th>2879</th>\n",
              "      <td>hyperlink never pay retail unleash your pc s ...</td>\n",
              "      <td>1</td>\n",
              "    </tr>\n",
              "    <tr>\n",
              "      <th>610</th>\n",
              "      <td>at fermi yes i m back there long story we re b...</td>\n",
              "      <td>0</td>\n",
              "    </tr>\n",
              "    <tr>\n",
              "      <th>965</th>\n",
              "      <td>from brent welch welch panasas com date wed N...</td>\n",
              "      <td>0</td>\n",
              "    </tr>\n",
              "    <tr>\n",
              "      <th>202</th>\n",
              "      <td>philip reynolds wrote does anyone know how to ...</td>\n",
              "      <td>0</td>\n",
              "    </tr>\n",
              "  </tbody>\n",
              "</table>\n",
              "</div>\n",
              "    <div class=\"colab-df-buttons\">\n",
              "\n",
              "  <div class=\"colab-df-container\">\n",
              "    <button class=\"colab-df-convert\" onclick=\"convertToInteractive('df-eacc73ec-5e9e-4c08-ac61-e4800dbccd5e')\"\n",
              "            title=\"Convert this dataframe to an interactive table.\"\n",
              "            style=\"display:none;\">\n",
              "\n",
              "  <svg xmlns=\"http://www.w3.org/2000/svg\" height=\"24px\" viewBox=\"0 -960 960 960\">\n",
              "    <path d=\"M120-120v-720h720v720H120Zm60-500h600v-160H180v160Zm220 220h160v-160H400v160Zm0 220h160v-160H400v160ZM180-400h160v-160H180v160Zm440 0h160v-160H620v160ZM180-180h160v-160H180v160Zm440 0h160v-160H620v160Z\"/>\n",
              "  </svg>\n",
              "    </button>\n",
              "\n",
              "  <style>\n",
              "    .colab-df-container {\n",
              "      display:flex;\n",
              "      gap: 12px;\n",
              "    }\n",
              "\n",
              "    .colab-df-convert {\n",
              "      background-color: #E8F0FE;\n",
              "      border: none;\n",
              "      border-radius: 50%;\n",
              "      cursor: pointer;\n",
              "      display: none;\n",
              "      fill: #1967D2;\n",
              "      height: 32px;\n",
              "      padding: 0 0 0 0;\n",
              "      width: 32px;\n",
              "    }\n",
              "\n",
              "    .colab-df-convert:hover {\n",
              "      background-color: #E2EBFA;\n",
              "      box-shadow: 0px 1px 2px rgba(60, 64, 67, 0.3), 0px 1px 3px 1px rgba(60, 64, 67, 0.15);\n",
              "      fill: #174EA6;\n",
              "    }\n",
              "\n",
              "    .colab-df-buttons div {\n",
              "      margin-bottom: 4px;\n",
              "    }\n",
              "\n",
              "    [theme=dark] .colab-df-convert {\n",
              "      background-color: #3B4455;\n",
              "      fill: #D2E3FC;\n",
              "    }\n",
              "\n",
              "    [theme=dark] .colab-df-convert:hover {\n",
              "      background-color: #434B5C;\n",
              "      box-shadow: 0px 1px 3px 1px rgba(0, 0, 0, 0.15);\n",
              "      filter: drop-shadow(0px 1px 2px rgba(0, 0, 0, 0.3));\n",
              "      fill: #FFFFFF;\n",
              "    }\n",
              "  </style>\n",
              "\n",
              "    <script>\n",
              "      const buttonEl =\n",
              "        document.querySelector('#df-eacc73ec-5e9e-4c08-ac61-e4800dbccd5e button.colab-df-convert');\n",
              "      buttonEl.style.display =\n",
              "        google.colab.kernel.accessAllowed ? 'block' : 'none';\n",
              "\n",
              "      async function convertToInteractive(key) {\n",
              "        const element = document.querySelector('#df-eacc73ec-5e9e-4c08-ac61-e4800dbccd5e');\n",
              "        const dataTable =\n",
              "          await google.colab.kernel.invokeFunction('convertToInteractive',\n",
              "                                                    [key], {});\n",
              "        if (!dataTable) return;\n",
              "\n",
              "        const docLinkHtml = 'Like what you see? Visit the ' +\n",
              "          '<a target=\"_blank\" href=https://colab.research.google.com/notebooks/data_table.ipynb>data table notebook</a>'\n",
              "          + ' to learn more about interactive tables.';\n",
              "        element.innerHTML = '';\n",
              "        dataTable['output_type'] = 'display_data';\n",
              "        await google.colab.output.renderOutput(dataTable, element);\n",
              "        const docLink = document.createElement('div');\n",
              "        docLink.innerHTML = docLinkHtml;\n",
              "        element.appendChild(docLink);\n",
              "      }\n",
              "    </script>\n",
              "  </div>\n",
              "\n",
              "\n",
              "<div id=\"df-3f9f57a5-42f1-4108-902a-5c32bf2e6ff2\">\n",
              "  <button class=\"colab-df-quickchart\" onclick=\"quickchart('df-3f9f57a5-42f1-4108-902a-5c32bf2e6ff2')\"\n",
              "            title=\"Suggest charts.\"\n",
              "            style=\"display:none;\">\n",
              "\n",
              "<svg xmlns=\"http://www.w3.org/2000/svg\" height=\"24px\"viewBox=\"0 0 24 24\"\n",
              "     width=\"24px\">\n",
              "    <g>\n",
              "        <path d=\"M19 3H5c-1.1 0-2 .9-2 2v14c0 1.1.9 2 2 2h14c1.1 0 2-.9 2-2V5c0-1.1-.9-2-2-2zM9 17H7v-7h2v7zm4 0h-2V7h2v10zm4 0h-2v-4h2v4z\"/>\n",
              "    </g>\n",
              "</svg>\n",
              "  </button>\n",
              "\n",
              "<style>\n",
              "  .colab-df-quickchart {\n",
              "      --bg-color: #E8F0FE;\n",
              "      --fill-color: #1967D2;\n",
              "      --hover-bg-color: #E2EBFA;\n",
              "      --hover-fill-color: #174EA6;\n",
              "      --disabled-fill-color: #AAA;\n",
              "      --disabled-bg-color: #DDD;\n",
              "  }\n",
              "\n",
              "  [theme=dark] .colab-df-quickchart {\n",
              "      --bg-color: #3B4455;\n",
              "      --fill-color: #D2E3FC;\n",
              "      --hover-bg-color: #434B5C;\n",
              "      --hover-fill-color: #FFFFFF;\n",
              "      --disabled-bg-color: #3B4455;\n",
              "      --disabled-fill-color: #666;\n",
              "  }\n",
              "\n",
              "  .colab-df-quickchart {\n",
              "    background-color: var(--bg-color);\n",
              "    border: none;\n",
              "    border-radius: 50%;\n",
              "    cursor: pointer;\n",
              "    display: none;\n",
              "    fill: var(--fill-color);\n",
              "    height: 32px;\n",
              "    padding: 0;\n",
              "    width: 32px;\n",
              "  }\n",
              "\n",
              "  .colab-df-quickchart:hover {\n",
              "    background-color: var(--hover-bg-color);\n",
              "    box-shadow: 0 1px 2px rgba(60, 64, 67, 0.3), 0 1px 3px 1px rgba(60, 64, 67, 0.15);\n",
              "    fill: var(--button-hover-fill-color);\n",
              "  }\n",
              "\n",
              "  .colab-df-quickchart-complete:disabled,\n",
              "  .colab-df-quickchart-complete:disabled:hover {\n",
              "    background-color: var(--disabled-bg-color);\n",
              "    fill: var(--disabled-fill-color);\n",
              "    box-shadow: none;\n",
              "  }\n",
              "\n",
              "  .colab-df-spinner {\n",
              "    border: 2px solid var(--fill-color);\n",
              "    border-color: transparent;\n",
              "    border-bottom-color: var(--fill-color);\n",
              "    animation:\n",
              "      spin 1s steps(1) infinite;\n",
              "  }\n",
              "\n",
              "  @keyframes spin {\n",
              "    0% {\n",
              "      border-color: transparent;\n",
              "      border-bottom-color: var(--fill-color);\n",
              "      border-left-color: var(--fill-color);\n",
              "    }\n",
              "    20% {\n",
              "      border-color: transparent;\n",
              "      border-left-color: var(--fill-color);\n",
              "      border-top-color: var(--fill-color);\n",
              "    }\n",
              "    30% {\n",
              "      border-color: transparent;\n",
              "      border-left-color: var(--fill-color);\n",
              "      border-top-color: var(--fill-color);\n",
              "      border-right-color: var(--fill-color);\n",
              "    }\n",
              "    40% {\n",
              "      border-color: transparent;\n",
              "      border-right-color: var(--fill-color);\n",
              "      border-top-color: var(--fill-color);\n",
              "    }\n",
              "    60% {\n",
              "      border-color: transparent;\n",
              "      border-right-color: var(--fill-color);\n",
              "    }\n",
              "    80% {\n",
              "      border-color: transparent;\n",
              "      border-right-color: var(--fill-color);\n",
              "      border-bottom-color: var(--fill-color);\n",
              "    }\n",
              "    90% {\n",
              "      border-color: transparent;\n",
              "      border-bottom-color: var(--fill-color);\n",
              "    }\n",
              "  }\n",
              "</style>\n",
              "\n",
              "  <script>\n",
              "    async function quickchart(key) {\n",
              "      const quickchartButtonEl =\n",
              "        document.querySelector('#' + key + ' button');\n",
              "      quickchartButtonEl.disabled = true;  // To prevent multiple clicks.\n",
              "      quickchartButtonEl.classList.add('colab-df-spinner');\n",
              "      try {\n",
              "        const charts = await google.colab.kernel.invokeFunction(\n",
              "            'suggestCharts', [key], {});\n",
              "      } catch (error) {\n",
              "        console.error('Error during call to suggestCharts:', error);\n",
              "      }\n",
              "      quickchartButtonEl.classList.remove('colab-df-spinner');\n",
              "      quickchartButtonEl.classList.add('colab-df-quickchart-complete');\n",
              "    }\n",
              "    (() => {\n",
              "      let quickchartButtonEl =\n",
              "        document.querySelector('#df-3f9f57a5-42f1-4108-902a-5c32bf2e6ff2 button');\n",
              "      quickchartButtonEl.style.display =\n",
              "        google.colab.kernel.accessAllowed ? 'block' : 'none';\n",
              "    })();\n",
              "  </script>\n",
              "</div>\n",
              "    </div>\n",
              "  </div>\n"
            ]
          },
          "metadata": {},
          "execution_count": 6
        }
      ]
    },
    {
      "cell_type": "code",
      "source": [
        "nlp = spacy.load(\"en_core_web_sm\")"
      ],
      "metadata": {
        "id": "59sRx7wExRyH"
      },
      "execution_count": null,
      "outputs": []
    },
    {
      "cell_type": "code",
      "source": [
        "%%time\n",
        "\n",
        "df['cleaned_text'] = df['text'].apply(\n",
        "    lambda x: ' '.join(\n",
        "        token.lemma_.lower() for token in nlp(str(x)) if\n",
        "        not token.is_stop\n",
        "        and not token.is_punct\n",
        "        and not token.is_digit\n",
        "        and not token.like_email\n",
        "        and not token.like_num\n",
        "        and not token.is_space\n",
        "    )\n",
        ")"
      ],
      "metadata": {
        "colab": {
          "base_uri": "https://localhost:8080/"
        },
        "id": "-kTKMUmFxy_7",
        "outputId": "b0e32296-193d-403f-9c57-5e53c2e49246"
      },
      "execution_count": 8,
      "outputs": [
        {
          "output_type": "stream",
          "name": "stdout",
          "text": [
            "CPU times: user 1min 28s, sys: 529 ms, total: 1min 28s\n",
            "Wall time: 1min 30s\n"
          ]
        }
      ]
    },
    {
      "cell_type": "code",
      "source": [
        "df.sample(5)"
      ],
      "metadata": {
        "colab": {
          "base_uri": "https://localhost:8080/",
          "height": 206
        },
        "id": "hWzr3i4vbU7n",
        "outputId": "f3b47107-895e-4e2f-871f-bd556123ec1f"
      },
      "execution_count": 9,
      "outputs": [
        {
          "output_type": "execute_result",
          "data": {
            "text/plain": [
              "                                                   text  label  \\\n",
              "21    on thu aug NUMBER NUMBER at NUMBER NUMBER NUMB...      0   \n",
              "2864  friend now you can copy dvd s and games URL ba...      1   \n",
              "1634  on NUMBER september NUMBER tim peters said gre...      0   \n",
              "2556  lowest rates available for term life insurance...      1   \n",
              "1348  justin mason wrote phil r lawrence said someth...      0   \n",
              "\n",
              "                                           cleaned_text  \n",
              "21    thu aug number number number number numberpm n...  \n",
              "2864  friend copy dvd s game url backup dvd video s ...  \n",
              "1634  number september number tim peters say greg wa...  \n",
              "2556  low rate available term life insurance moment ...  \n",
              "1348  justin mason write phil r lawrence say watch u...  "
            ],
            "text/html": [
              "\n",
              "  <div id=\"df-5e05d639-f2ed-4a18-8077-252f856926f8\" class=\"colab-df-container\">\n",
              "    <div>\n",
              "<style scoped>\n",
              "    .dataframe tbody tr th:only-of-type {\n",
              "        vertical-align: middle;\n",
              "    }\n",
              "\n",
              "    .dataframe tbody tr th {\n",
              "        vertical-align: top;\n",
              "    }\n",
              "\n",
              "    .dataframe thead th {\n",
              "        text-align: right;\n",
              "    }\n",
              "</style>\n",
              "<table border=\"1\" class=\"dataframe\">\n",
              "  <thead>\n",
              "    <tr style=\"text-align: right;\">\n",
              "      <th></th>\n",
              "      <th>text</th>\n",
              "      <th>label</th>\n",
              "      <th>cleaned_text</th>\n",
              "    </tr>\n",
              "  </thead>\n",
              "  <tbody>\n",
              "    <tr>\n",
              "      <th>21</th>\n",
              "      <td>on thu aug NUMBER NUMBER at NUMBER NUMBER NUMB...</td>\n",
              "      <td>0</td>\n",
              "      <td>thu aug number number number number numberpm n...</td>\n",
              "    </tr>\n",
              "    <tr>\n",
              "      <th>2864</th>\n",
              "      <td>friend now you can copy dvd s and games URL ba...</td>\n",
              "      <td>1</td>\n",
              "      <td>friend copy dvd s game url backup dvd video s ...</td>\n",
              "    </tr>\n",
              "    <tr>\n",
              "      <th>1634</th>\n",
              "      <td>on NUMBER september NUMBER tim peters said gre...</td>\n",
              "      <td>0</td>\n",
              "      <td>number september number tim peters say greg wa...</td>\n",
              "    </tr>\n",
              "    <tr>\n",
              "      <th>2556</th>\n",
              "      <td>lowest rates available for term life insurance...</td>\n",
              "      <td>1</td>\n",
              "      <td>low rate available term life insurance moment ...</td>\n",
              "    </tr>\n",
              "    <tr>\n",
              "      <th>1348</th>\n",
              "      <td>justin mason wrote phil r lawrence said someth...</td>\n",
              "      <td>0</td>\n",
              "      <td>justin mason write phil r lawrence say watch u...</td>\n",
              "    </tr>\n",
              "  </tbody>\n",
              "</table>\n",
              "</div>\n",
              "    <div class=\"colab-df-buttons\">\n",
              "\n",
              "  <div class=\"colab-df-container\">\n",
              "    <button class=\"colab-df-convert\" onclick=\"convertToInteractive('df-5e05d639-f2ed-4a18-8077-252f856926f8')\"\n",
              "            title=\"Convert this dataframe to an interactive table.\"\n",
              "            style=\"display:none;\">\n",
              "\n",
              "  <svg xmlns=\"http://www.w3.org/2000/svg\" height=\"24px\" viewBox=\"0 -960 960 960\">\n",
              "    <path d=\"M120-120v-720h720v720H120Zm60-500h600v-160H180v160Zm220 220h160v-160H400v160Zm0 220h160v-160H400v160ZM180-400h160v-160H180v160Zm440 0h160v-160H620v160ZM180-180h160v-160H180v160Zm440 0h160v-160H620v160Z\"/>\n",
              "  </svg>\n",
              "    </button>\n",
              "\n",
              "  <style>\n",
              "    .colab-df-container {\n",
              "      display:flex;\n",
              "      gap: 12px;\n",
              "    }\n",
              "\n",
              "    .colab-df-convert {\n",
              "      background-color: #E8F0FE;\n",
              "      border: none;\n",
              "      border-radius: 50%;\n",
              "      cursor: pointer;\n",
              "      display: none;\n",
              "      fill: #1967D2;\n",
              "      height: 32px;\n",
              "      padding: 0 0 0 0;\n",
              "      width: 32px;\n",
              "    }\n",
              "\n",
              "    .colab-df-convert:hover {\n",
              "      background-color: #E2EBFA;\n",
              "      box-shadow: 0px 1px 2px rgba(60, 64, 67, 0.3), 0px 1px 3px 1px rgba(60, 64, 67, 0.15);\n",
              "      fill: #174EA6;\n",
              "    }\n",
              "\n",
              "    .colab-df-buttons div {\n",
              "      margin-bottom: 4px;\n",
              "    }\n",
              "\n",
              "    [theme=dark] .colab-df-convert {\n",
              "      background-color: #3B4455;\n",
              "      fill: #D2E3FC;\n",
              "    }\n",
              "\n",
              "    [theme=dark] .colab-df-convert:hover {\n",
              "      background-color: #434B5C;\n",
              "      box-shadow: 0px 1px 3px 1px rgba(0, 0, 0, 0.15);\n",
              "      filter: drop-shadow(0px 1px 2px rgba(0, 0, 0, 0.3));\n",
              "      fill: #FFFFFF;\n",
              "    }\n",
              "  </style>\n",
              "\n",
              "    <script>\n",
              "      const buttonEl =\n",
              "        document.querySelector('#df-5e05d639-f2ed-4a18-8077-252f856926f8 button.colab-df-convert');\n",
              "      buttonEl.style.display =\n",
              "        google.colab.kernel.accessAllowed ? 'block' : 'none';\n",
              "\n",
              "      async function convertToInteractive(key) {\n",
              "        const element = document.querySelector('#df-5e05d639-f2ed-4a18-8077-252f856926f8');\n",
              "        const dataTable =\n",
              "          await google.colab.kernel.invokeFunction('convertToInteractive',\n",
              "                                                    [key], {});\n",
              "        if (!dataTable) return;\n",
              "\n",
              "        const docLinkHtml = 'Like what you see? Visit the ' +\n",
              "          '<a target=\"_blank\" href=https://colab.research.google.com/notebooks/data_table.ipynb>data table notebook</a>'\n",
              "          + ' to learn more about interactive tables.';\n",
              "        element.innerHTML = '';\n",
              "        dataTable['output_type'] = 'display_data';\n",
              "        await google.colab.output.renderOutput(dataTable, element);\n",
              "        const docLink = document.createElement('div');\n",
              "        docLink.innerHTML = docLinkHtml;\n",
              "        element.appendChild(docLink);\n",
              "      }\n",
              "    </script>\n",
              "  </div>\n",
              "\n",
              "\n",
              "<div id=\"df-7d68f1a4-e447-4ebf-9f92-12d700dab76f\">\n",
              "  <button class=\"colab-df-quickchart\" onclick=\"quickchart('df-7d68f1a4-e447-4ebf-9f92-12d700dab76f')\"\n",
              "            title=\"Suggest charts.\"\n",
              "            style=\"display:none;\">\n",
              "\n",
              "<svg xmlns=\"http://www.w3.org/2000/svg\" height=\"24px\"viewBox=\"0 0 24 24\"\n",
              "     width=\"24px\">\n",
              "    <g>\n",
              "        <path d=\"M19 3H5c-1.1 0-2 .9-2 2v14c0 1.1.9 2 2 2h14c1.1 0 2-.9 2-2V5c0-1.1-.9-2-2-2zM9 17H7v-7h2v7zm4 0h-2V7h2v10zm4 0h-2v-4h2v4z\"/>\n",
              "    </g>\n",
              "</svg>\n",
              "  </button>\n",
              "\n",
              "<style>\n",
              "  .colab-df-quickchart {\n",
              "      --bg-color: #E8F0FE;\n",
              "      --fill-color: #1967D2;\n",
              "      --hover-bg-color: #E2EBFA;\n",
              "      --hover-fill-color: #174EA6;\n",
              "      --disabled-fill-color: #AAA;\n",
              "      --disabled-bg-color: #DDD;\n",
              "  }\n",
              "\n",
              "  [theme=dark] .colab-df-quickchart {\n",
              "      --bg-color: #3B4455;\n",
              "      --fill-color: #D2E3FC;\n",
              "      --hover-bg-color: #434B5C;\n",
              "      --hover-fill-color: #FFFFFF;\n",
              "      --disabled-bg-color: #3B4455;\n",
              "      --disabled-fill-color: #666;\n",
              "  }\n",
              "\n",
              "  .colab-df-quickchart {\n",
              "    background-color: var(--bg-color);\n",
              "    border: none;\n",
              "    border-radius: 50%;\n",
              "    cursor: pointer;\n",
              "    display: none;\n",
              "    fill: var(--fill-color);\n",
              "    height: 32px;\n",
              "    padding: 0;\n",
              "    width: 32px;\n",
              "  }\n",
              "\n",
              "  .colab-df-quickchart:hover {\n",
              "    background-color: var(--hover-bg-color);\n",
              "    box-shadow: 0 1px 2px rgba(60, 64, 67, 0.3), 0 1px 3px 1px rgba(60, 64, 67, 0.15);\n",
              "    fill: var(--button-hover-fill-color);\n",
              "  }\n",
              "\n",
              "  .colab-df-quickchart-complete:disabled,\n",
              "  .colab-df-quickchart-complete:disabled:hover {\n",
              "    background-color: var(--disabled-bg-color);\n",
              "    fill: var(--disabled-fill-color);\n",
              "    box-shadow: none;\n",
              "  }\n",
              "\n",
              "  .colab-df-spinner {\n",
              "    border: 2px solid var(--fill-color);\n",
              "    border-color: transparent;\n",
              "    border-bottom-color: var(--fill-color);\n",
              "    animation:\n",
              "      spin 1s steps(1) infinite;\n",
              "  }\n",
              "\n",
              "  @keyframes spin {\n",
              "    0% {\n",
              "      border-color: transparent;\n",
              "      border-bottom-color: var(--fill-color);\n",
              "      border-left-color: var(--fill-color);\n",
              "    }\n",
              "    20% {\n",
              "      border-color: transparent;\n",
              "      border-left-color: var(--fill-color);\n",
              "      border-top-color: var(--fill-color);\n",
              "    }\n",
              "    30% {\n",
              "      border-color: transparent;\n",
              "      border-left-color: var(--fill-color);\n",
              "      border-top-color: var(--fill-color);\n",
              "      border-right-color: var(--fill-color);\n",
              "    }\n",
              "    40% {\n",
              "      border-color: transparent;\n",
              "      border-right-color: var(--fill-color);\n",
              "      border-top-color: var(--fill-color);\n",
              "    }\n",
              "    60% {\n",
              "      border-color: transparent;\n",
              "      border-right-color: var(--fill-color);\n",
              "    }\n",
              "    80% {\n",
              "      border-color: transparent;\n",
              "      border-right-color: var(--fill-color);\n",
              "      border-bottom-color: var(--fill-color);\n",
              "    }\n",
              "    90% {\n",
              "      border-color: transparent;\n",
              "      border-bottom-color: var(--fill-color);\n",
              "    }\n",
              "  }\n",
              "</style>\n",
              "\n",
              "  <script>\n",
              "    async function quickchart(key) {\n",
              "      const quickchartButtonEl =\n",
              "        document.querySelector('#' + key + ' button');\n",
              "      quickchartButtonEl.disabled = true;  // To prevent multiple clicks.\n",
              "      quickchartButtonEl.classList.add('colab-df-spinner');\n",
              "      try {\n",
              "        const charts = await google.colab.kernel.invokeFunction(\n",
              "            'suggestCharts', [key], {});\n",
              "      } catch (error) {\n",
              "        console.error('Error during call to suggestCharts:', error);\n",
              "      }\n",
              "      quickchartButtonEl.classList.remove('colab-df-spinner');\n",
              "      quickchartButtonEl.classList.add('colab-df-quickchart-complete');\n",
              "    }\n",
              "    (() => {\n",
              "      let quickchartButtonEl =\n",
              "        document.querySelector('#df-7d68f1a4-e447-4ebf-9f92-12d700dab76f button');\n",
              "      quickchartButtonEl.style.display =\n",
              "        google.colab.kernel.accessAllowed ? 'block' : 'none';\n",
              "    })();\n",
              "  </script>\n",
              "</div>\n",
              "    </div>\n",
              "  </div>\n"
            ]
          },
          "metadata": {},
          "execution_count": 9
        }
      ]
    },
    {
      "cell_type": "code",
      "source": [
        "df['cleaned_text'].replace('', str(np.nan), inplace=True)"
      ],
      "metadata": {
        "id": "5O05IxE3ZaA1"
      },
      "execution_count": 10,
      "outputs": []
    },
    {
      "cell_type": "code",
      "source": [
        "X_train, X_test, y_train, y_test = train_test_split(df['cleaned_text'], df['label'], random_state=RANDOM_STATE)"
      ],
      "metadata": {
        "id": "lKjEudwHeky9"
      },
      "execution_count": 39,
      "outputs": []
    },
    {
      "cell_type": "code",
      "source": [
        "X_train_list = [text.split() for text in X_train.values]"
      ],
      "metadata": {
        "id": "_OEDVCCXew0E"
      },
      "execution_count": 40,
      "outputs": []
    },
    {
      "cell_type": "code",
      "source": [
        "X_train_list[1][:10]"
      ],
      "metadata": {
        "colab": {
          "base_uri": "https://localhost:8080/"
        },
        "id": "TbOz2lbLfERM",
        "outputId": "b4baaec7-7915-4142-850e-0c5d68cebbc2"
      },
      "execution_count": 41,
      "outputs": [
        {
          "output_type": "execute_result",
          "data": {
            "text/plain": [
              "['view',\n",
              " 'newsletter',\n",
              " 'color',\n",
              " 'url',\n",
              " 'media',\n",
              " 'unspun',\n",
              " 'press',\n",
              " 'report',\n",
              " 'www',\n",
              " 'mediaunspun']"
            ]
          },
          "metadata": {},
          "execution_count": 41
        }
      ]
    },
    {
      "cell_type": "markdown",
      "source": [
        "# Создание моделей и их сравнение с помощью внутренней оценки"
      ],
      "metadata": {
        "id": "fzStlfhi9GSu"
      }
    },
    {
      "cell_type": "markdown",
      "source": [
        "## Word2Vec"
      ],
      "metadata": {
        "id": "OdXR0PLMzRTa"
      }
    },
    {
      "cell_type": "markdown",
      "source": [
        "### SkipGram"
      ],
      "metadata": {
        "id": "JRkQEPXEmCYI"
      }
    },
    {
      "cell_type": "code",
      "source": [
        "%%time\n",
        "\n",
        "model_skipGram = gensim.models.Word2Vec(\n",
        "    sentences=X_train_list, # изменил на train\n",
        "    vector_size=256,\n",
        "    window=3,\n",
        "    min_count=10,\n",
        "    sg=1, # 1 for skip-gram\n",
        "    hs=0,\n",
        "    negative=5,\n",
        "    epochs=25,\n",
        "    seed=RANDOM_STATE,\n",
        ")"
      ],
      "metadata": {
        "colab": {
          "base_uri": "https://localhost:8080/"
        },
        "id": "ahpN0Exd0r6m",
        "outputId": "93619616-eaea-478d-c053-89eea73f7109"
      },
      "execution_count": 19,
      "outputs": [
        {
          "output_type": "stream",
          "name": "stdout",
          "text": [
            "CPU times: user 30 s, sys: 118 ms, total: 30.1 s\n",
            "Wall time: 20 s\n"
          ]
        }
      ]
    },
    {
      "cell_type": "code",
      "source": [
        "model_skipGram.wv.most_similar(positive=['january'])"
      ],
      "metadata": {
        "colab": {
          "base_uri": "https://localhost:8080/"
        },
        "id": "nZ9ue3yS48VE",
        "outputId": "db6e66af-503a-4b7b-e620-ce5f4a9b10c6"
      },
      "execution_count": 20,
      "outputs": [
        {
          "output_type": "execute_result",
          "data": {
            "text/plain": [
              "[('hawaii', 0.5169601440429688),\n",
              " ('december', 0.45577940344810486),\n",
              " ('japan', 0.444751113653183),\n",
              " ('ii', 0.44286930561065674),\n",
              " ('porter', 0.44119882583618164),\n",
              " ('guardian', 0.43025562167167664),\n",
              " ('rafael', 0.4269408881664276),\n",
              " ('council', 0.4259926378726959),\n",
              " ('urge', 0.42067092657089233),\n",
              " ('convergence', 0.42037853598594666)]"
            ]
          },
          "metadata": {},
          "execution_count": 20
        }
      ]
    },
    {
      "cell_type": "code",
      "source": [
        "model_skipGram.wv.most_similar(positive=['computer'])"
      ],
      "metadata": {
        "colab": {
          "base_uri": "https://localhost:8080/"
        },
        "id": "Z327YK9D5_o4",
        "outputId": "733d8ae2-cafb-4dff-dc93-0dd00d1259ce"
      },
      "execution_count": 21,
      "outputs": [
        {
          "output_type": "execute_result",
          "data": {
            "text/plain": [
              "[('picasso', 0.4886655807495117),\n",
              " ('pablo', 0.47680971026420593),\n",
              " ('hazardous', 0.46309053897857666),\n",
              " ('ref', 0.4338524043560028),\n",
              " ('science', 0.4269062578678131),\n",
              " ('biz', 0.4258567690849304),\n",
              " ('useless', 0.4197920560836792),\n",
              " ('resell', 0.39436814188957214),\n",
              " ('hacker', 0.37690114974975586),\n",
              " ('accessible', 0.37124428153038025)]"
            ]
          },
          "metadata": {},
          "execution_count": 21
        }
      ]
    },
    {
      "cell_type": "code",
      "source": [
        "model_skipGram.wv.most_similar(positive=['winter'])"
      ],
      "metadata": {
        "colab": {
          "base_uri": "https://localhost:8080/"
        },
        "id": "9nFACaQR6X09",
        "outputId": "9b227b17-0294-4dfa-ec6c-32982336ac03"
      },
      "execution_count": 22,
      "outputs": [
        {
          "output_type": "execute_result",
          "data": {
            "text/plain": [
              "[('warm', 0.629181444644928),\n",
              " ('hill', 0.573944628238678),\n",
              " ('cold', 0.5700160264968872),\n",
              " ('peru', 0.5248795747756958),\n",
              " ('metro', 0.5120118260383606),\n",
              " ('gibbon', 0.5107038021087646),\n",
              " ('summer', 0.4937472641468048),\n",
              " ('qaeda', 0.48532822728157043),\n",
              " ('wet', 0.47882452607154846),\n",
              " ('wind', 0.4783901274204254)]"
            ]
          },
          "metadata": {},
          "execution_count": 22
        }
      ]
    },
    {
      "cell_type": "code",
      "source": [
        "model_skipGram.wv.doesnt_match(['winter', 'january', 'computer'])"
      ],
      "metadata": {
        "colab": {
          "base_uri": "https://localhost:8080/",
          "height": 36
        },
        "id": "fnwJrfbL8FSZ",
        "outputId": "1051a4f9-5569-4458-a97e-7ae90c68d790"
      },
      "execution_count": 23,
      "outputs": [
        {
          "output_type": "execute_result",
          "data": {
            "text/plain": [
              "'computer'"
            ],
            "application/vnd.google.colaboratory.intrinsic+json": {
              "type": "string"
            }
          },
          "metadata": {},
          "execution_count": 23
        }
      ]
    },
    {
      "cell_type": "markdown",
      "source": [
        "### CBOW"
      ],
      "metadata": {
        "id": "wEU5OKbRl_ox"
      }
    },
    {
      "cell_type": "code",
      "source": [
        "%%time\n",
        "\n",
        "model_cbow = gensim.models.Word2Vec(\n",
        "    sentences=X_train_list, # изменил на train\n",
        "    vector_size=256,\n",
        "    window=3,\n",
        "    min_count=10,\n",
        "    sg=0, # 0 for CBOW\n",
        "    hs=0,\n",
        "    negative=5,\n",
        "    epochs=25,\n",
        "    seed=RANDOM_STATE,\n",
        ")"
      ],
      "metadata": {
        "colab": {
          "base_uri": "https://localhost:8080/"
        },
        "id": "P4NDhOd56wJv",
        "outputId": "65b21418-8bce-4450-81a8-02f54f70f654"
      },
      "execution_count": 24,
      "outputs": [
        {
          "output_type": "stream",
          "name": "stdout",
          "text": [
            "CPU times: user 11.1 s, sys: 137 ms, total: 11.3 s\n",
            "Wall time: 5.95 s\n"
          ]
        }
      ]
    },
    {
      "cell_type": "code",
      "source": [
        "model_cbow.wv.most_similar(positive=['winter'])"
      ],
      "metadata": {
        "colab": {
          "base_uri": "https://localhost:8080/"
        },
        "id": "fyuJG85T65s3",
        "outputId": "1fc89228-7992-4489-a5fd-245fd517f5eb"
      },
      "execution_count": 25,
      "outputs": [
        {
          "output_type": "execute_result",
          "data": {
            "text/plain": [
              "[('south', 0.7863070368766785),\n",
              " ('district', 0.765735387802124),\n",
              " ('warm', 0.7490406036376953),\n",
              " ('southern', 0.7410219311714172),\n",
              " ('italian', 0.7398777604103088),\n",
              " ('thug', 0.7312845587730408),\n",
              " ('north', 0.7178866863250732),\n",
              " ('northern', 0.7132603526115417),\n",
              " ('gibbon', 0.7119941711425781),\n",
              " ('german', 0.7113614678382874)]"
            ]
          },
          "metadata": {},
          "execution_count": 25
        }
      ]
    },
    {
      "cell_type": "code",
      "source": [
        "model_cbow.wv.most_similar(positive=['computer'])"
      ],
      "metadata": {
        "colab": {
          "base_uri": "https://localhost:8080/"
        },
        "id": "npej2btEdwPz",
        "outputId": "3c75cb56-d197-477f-8246-b90fde51ba8d"
      },
      "execution_count": 26,
      "outputs": [
        {
          "output_type": "execute_result",
          "data": {
            "text/plain": [
              "[('hacker', 0.5715683698654175),\n",
              " ('useless', 0.5585527420043945),\n",
              " ('virus', 0.5357949137687683),\n",
              " ('hazardous', 0.5313625931739807),\n",
              " ('science', 0.5090427398681641),\n",
              " ('vulnerable', 0.47992753982543945),\n",
              " ('apple', 0.4777365028858185),\n",
              " ('biz', 0.46867677569389343),\n",
              " ('laptop', 0.46193721890449524),\n",
              " ('picasso', 0.44450458884239197)]"
            ]
          },
          "metadata": {},
          "execution_count": 26
        }
      ]
    },
    {
      "cell_type": "markdown",
      "source": [
        "## Fasttext"
      ],
      "metadata": {
        "id": "HhrrJD-q8AsA"
      }
    },
    {
      "cell_type": "code",
      "source": [
        "with open('data.txt', 'w') as f:\n",
        "    f.writelines(X_train) # поменял на train"
      ],
      "metadata": {
        "id": "X5jKmkiv9B17"
      },
      "execution_count": 42,
      "outputs": []
    },
    {
      "cell_type": "code",
      "source": [
        "%%time\n",
        "\n",
        "model_fasttext = fasttext.train_unsupervised('data.txt', wordNgrams=3, dim=256)"
      ],
      "metadata": {
        "colab": {
          "base_uri": "https://localhost:8080/"
        },
        "id": "tLOzAyu99jln",
        "outputId": "e3b3aced-f7cc-46ed-bf2b-2ba96d7a0d76"
      },
      "execution_count": 28,
      "outputs": [
        {
          "output_type": "stream",
          "name": "stdout",
          "text": [
            "CPU times: user 56.5 s, sys: 518 ms, total: 57 s\n",
            "Wall time: 57.1 s\n"
          ]
        }
      ]
    },
    {
      "cell_type": "code",
      "source": [
        "model_fasttext.get_nearest_neighbors('computer')"
      ],
      "metadata": {
        "colab": {
          "base_uri": "https://localhost:8080/"
        },
        "id": "dODlsUEh90U-",
        "outputId": "d153d611-6a56-4d78-b720-c602dbf32717"
      },
      "execution_count": 29,
      "outputs": [
        {
          "output_type": "execute_result",
          "data": {
            "text/plain": [
              "[(0.9073851704597473, 'compute'),\n",
              " (0.7971869111061096, 'pablo'),\n",
              " (0.794200599193573, 'answer'),\n",
              " (0.7888842225074768, 'dynamic'),\n",
              " (0.7828190326690674, 'software'),\n",
              " (0.7800711393356323, 'useless'),\n",
              " (0.7711679339408875, 'nonetheless'),\n",
              " (0.7700068354606628, 'computing'),\n",
              " (0.7598996758460999, 'teledynamic'),\n",
              " (0.7550809979438782, 'teledynamics')]"
            ]
          },
          "metadata": {},
          "execution_count": 29
        }
      ]
    },
    {
      "cell_type": "markdown",
      "source": [
        "Вывод:\n",
        "\n",
        "Модели показывают неплохие результаты.\n",
        "\n",
        "В Word2Vec для CBOW заметен более хорошие результат.\n"
      ],
      "metadata": {
        "id": "YkikQJla-Ire"
      }
    },
    {
      "cell_type": "markdown",
      "source": [
        "# Сравнение качества на полученных векторах"
      ],
      "metadata": {
        "id": "jCdR4WDfAwzE"
      }
    },
    {
      "cell_type": "code",
      "source": [
        "class MyTransformer(BaseEstimator, TransformerMixin):\n",
        "    def __init__(self, model):\n",
        "        self.model = model\n",
        "\n",
        "    def fit(self, X, y=None):\n",
        "        return self # модель уже обучена\n",
        "\n",
        "    def transform(self, X):\n",
        "        X_copy = X.apply(self.text2vector)\n",
        "        return pd.DataFrame(X_copy.to_list())\n",
        "\n",
        "    def text2vector(self, text):\n",
        "        pass"
      ],
      "metadata": {
        "id": "rVe5P7QWirQ7"
      },
      "execution_count": 30,
      "outputs": []
    },
    {
      "cell_type": "markdown",
      "source": [
        "## Word2Vec"
      ],
      "metadata": {
        "id": "GiiXGu0ZnNm5"
      }
    },
    {
      "cell_type": "code",
      "source": [
        "class Word2VecTransformer(MyTransformer):\n",
        "    def __init__(self, model):\n",
        "        super().__init__(model)\n",
        "\n",
        "    def text2vector(self, text):\n",
        "        vec = []\n",
        "        for w in text.split():\n",
        "            try:\n",
        "                emb_for_word = self.model.wv[w]\n",
        "            except KeyError:\n",
        "                emb_for_word = np.zeros(256)\n",
        "            vec.append(np.array(emb_for_word))\n",
        "        text_vec = np.sum(vec, axis=0)\n",
        "        return text_vec"
      ],
      "metadata": {
        "id": "KZQ-sN2y_HXv"
      },
      "execution_count": 31,
      "outputs": []
    },
    {
      "cell_type": "code",
      "source": [
        "pipe_skipgram = Pipeline([\n",
        "    ('ft', Word2VecTransformer(model_skipGram)),\n",
        "    ('clf', LogisticRegression(random_state=RANDOM_STATE)),\n",
        "]).fit(X_train, y_train)"
      ],
      "metadata": {
        "id": "tlrwsNepAQq9"
      },
      "execution_count": null,
      "outputs": []
    },
    {
      "cell_type": "code",
      "source": [
        "pipe_cbow = Pipeline([\n",
        "    ('ft', Word2VecTransformer(model_cbow)),\n",
        "    ('clf', LogisticRegression(random_state=RANDOM_STATE)),\n",
        "]).fit(X_train, y_train)"
      ],
      "metadata": {
        "id": "VWfqAXIXCtmC"
      },
      "execution_count": null,
      "outputs": []
    },
    {
      "cell_type": "markdown",
      "source": [
        "## Fasttext"
      ],
      "metadata": {
        "id": "ENUAGwRYnLZi"
      }
    },
    {
      "cell_type": "code",
      "source": [
        "class FastTextTransformer(MyTransformer):\n",
        "    def __init__(self, model):\n",
        "        super().__init__(model)\n",
        "\n",
        "    def text2vector(self, text):\n",
        "        vec = [np.array(self.model.get_word_vector(w)) for w in text.split()]\n",
        "        text_vec = np.sum(vec, axis=0)\n",
        "        return text_vec"
      ],
      "metadata": {
        "id": "NFaGOb1Vz0bq"
      },
      "execution_count": 45,
      "outputs": []
    },
    {
      "cell_type": "code",
      "source": [
        "pipe_fasttext = Pipeline([\n",
        "    ('ft', FastTextTransformer(model_fasttext)),\n",
        "    ('clf', LogisticRegression(random_state=RANDOM_STATE)),\n",
        "]).fit(X_train, y_train)"
      ],
      "metadata": {
        "id": "rAas8LGXDot1"
      },
      "execution_count": null,
      "outputs": []
    },
    {
      "cell_type": "markdown",
      "source": [
        "## Итог"
      ],
      "metadata": {
        "id": "R_CmEBJZnTti"
      }
    },
    {
      "cell_type": "markdown",
      "source": [
        "SkipGram"
      ],
      "metadata": {
        "id": "o64c08u1hyfs"
      }
    },
    {
      "cell_type": "code",
      "source": [
        "print(classification_report(y_test, pipe_skipgram.predict(X_test)))"
      ],
      "metadata": {
        "colab": {
          "base_uri": "https://localhost:8080/"
        },
        "id": "_5lFt0X3CclA",
        "outputId": "7729c854-44fe-4481-d03a-8b239af75b88"
      },
      "execution_count": 47,
      "outputs": [
        {
          "output_type": "stream",
          "name": "stdout",
          "text": [
            "              precision    recall  f1-score   support\n",
            "\n",
            "           0       0.99      1.00      1.00       642\n",
            "           1       1.00      0.95      0.98       108\n",
            "\n",
            "    accuracy                           0.99       750\n",
            "   macro avg       1.00      0.98      0.99       750\n",
            "weighted avg       0.99      0.99      0.99       750\n",
            "\n"
          ]
        }
      ]
    },
    {
      "cell_type": "markdown",
      "source": [
        "CBOW"
      ],
      "metadata": {
        "id": "bM1vvRzmh0ss"
      }
    },
    {
      "cell_type": "code",
      "source": [
        "print(classification_report(y_test, pipe_cbow.predict(X_test)))"
      ],
      "metadata": {
        "colab": {
          "base_uri": "https://localhost:8080/"
        },
        "id": "hOrcXY9zC2cs",
        "outputId": "5e563d81-2938-4d6a-ca4f-49af46a0a15a"
      },
      "execution_count": 48,
      "outputs": [
        {
          "output_type": "stream",
          "name": "stdout",
          "text": [
            "              precision    recall  f1-score   support\n",
            "\n",
            "           0       1.00      0.99      0.99       642\n",
            "           1       0.95      0.97      0.96       108\n",
            "\n",
            "    accuracy                           0.99       750\n",
            "   macro avg       0.97      0.98      0.98       750\n",
            "weighted avg       0.99      0.99      0.99       750\n",
            "\n"
          ]
        }
      ]
    },
    {
      "cell_type": "markdown",
      "source": [
        "Fasttext"
      ],
      "metadata": {
        "id": "1fYBcdwkiGhk"
      }
    },
    {
      "cell_type": "code",
      "source": [
        "print(classification_report(y_test, pipe_fasttext.predict(X_test)))"
      ],
      "metadata": {
        "colab": {
          "base_uri": "https://localhost:8080/"
        },
        "id": "h35WEkdeDred",
        "outputId": "f7d2b914-c51d-4aa5-ac00-b8a28ddc2ffc"
      },
      "execution_count": 49,
      "outputs": [
        {
          "output_type": "stream",
          "name": "stdout",
          "text": [
            "              precision    recall  f1-score   support\n",
            "\n",
            "           0       0.99      0.99      0.99       642\n",
            "           1       0.95      0.94      0.95       108\n",
            "\n",
            "    accuracy                           0.99       750\n",
            "   macro avg       0.97      0.97      0.97       750\n",
            "weighted avg       0.99      0.99      0.99       750\n",
            "\n"
          ]
        }
      ]
    },
    {
      "cell_type": "markdown",
      "source": [
        "Вывод:\n",
        "\n",
        "В задаче определения спама по моему мнению стоит выбрать CBOW из-за наибольшего значения recall по классу 1."
      ],
      "metadata": {
        "id": "5_Y94GeDDg6W"
      }
    }
  ]
}