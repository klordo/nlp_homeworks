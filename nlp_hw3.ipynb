{
  "nbformat": 4,
  "nbformat_minor": 0,
  "metadata": {
    "colab": {
      "provenance": [],
      "toc_visible": true,
      "include_colab_link": true
    },
    "kernelspec": {
      "name": "python3",
      "display_name": "Python 3"
    },
    "language_info": {
      "name": "python"
    }
  },
  "cells": [
    {
      "cell_type": "markdown",
      "metadata": {
        "id": "view-in-github",
        "colab_type": "text"
      },
      "source": [
        "<a href=\"https://colab.research.google.com/github/klordo/nlp_homeworks/blob/hw3/nlp_hw3.ipynb\" target=\"_parent\"><img src=\"https://colab.research.google.com/assets/colab-badge.svg\" alt=\"Open In Colab\"/></a>"
      ]
    },
    {
      "cell_type": "markdown",
      "source": [
        "#  Предустановки"
      ],
      "metadata": {
        "id": "Sqy0xZ83ybsD"
      }
    },
    {
      "cell_type": "code",
      "source": [
        "!pip install -U pip setuptools wheel\n",
        "!pip install -U spacy\n",
        "!pip install fasttext"
      ],
      "metadata": {
        "id": "bcg8hYGnxpKY"
      },
      "execution_count": null,
      "outputs": []
    },
    {
      "cell_type": "code",
      "execution_count": 2,
      "metadata": {
        "id": "HQvirx-0wCKk"
      },
      "outputs": [],
      "source": [
        "import pandas as pd\n",
        "import numpy as np\n",
        "import spacy\n",
        "import gensim\n",
        "import fasttext\n",
        "import warnings\n",
        "\n",
        "# from sklearn.experimental import enable_halving_search_cv # разрешаем использование эксперементальных функций\n",
        "from sklearn.model_selection import train_test_split\n",
        "from sklearn.pipeline import Pipeline\n",
        "from sklearn.linear_model import LogisticRegression\n",
        "from sklearn.metrics import classification_report\n",
        "# from sklearn.base import BaseEstimator, TransformerMixin"
      ]
    },
    {
      "cell_type": "code",
      "source": [
        "warnings.simplefilter(action='ignore', category=FutureWarning)"
      ],
      "metadata": {
        "id": "5E01X0EzyaRk"
      },
      "execution_count": 3,
      "outputs": []
    },
    {
      "cell_type": "code",
      "source": [
        "RANDOM_STATE = 1000 - 7"
      ],
      "metadata": {
        "id": "u3i5IMB_zOnK"
      },
      "execution_count": 4,
      "outputs": []
    },
    {
      "cell_type": "markdown",
      "source": [
        "# Подготовка датасета"
      ],
      "metadata": {
        "id": "3xNXBmCWyenN"
      }
    },
    {
      "cell_type": "code",
      "source": [
        "df = pd.read_csv('spam_or_not_spam.csv', encoding='iso-8859-1').rename(columns={'email': 'text'})"
      ],
      "metadata": {
        "id": "A0p9JCAkxBp4"
      },
      "execution_count": 5,
      "outputs": []
    },
    {
      "cell_type": "code",
      "source": [
        "df.sample(5)"
      ],
      "metadata": {
        "colab": {
          "base_uri": "https://localhost:8080/",
          "height": 206
        },
        "id": "DEXDIcUQxDz7",
        "outputId": "e76ba048-1327-4bf4-b6fe-6f1e38281c10"
      },
      "execution_count": 37,
      "outputs": [
        {
          "output_type": "execute_result",
          "data": {
            "text/plain": [
              "                                                   text  label  \\\n",
              "2848  dear free member you were gifted a free member...      1   \n",
              "317   i think that this and other articles confuse s...      0   \n",
              "1721   greg ward case of headers is definitely helpf...      0   \n",
              "1598  i m getting no servers available about half th...      0   \n",
              "2758   dear sir madam i got this email id from your ...      1   \n",
              "\n",
              "                                           cleaned_text  \n",
              "2848  dear free member gift free membership cash wav...  \n",
              "317   think article confuse socialism bureaucracy li...  \n",
              "1721  greg ward case header definitely helpful spama...  \n",
              "1598  m get server available half time day razor num...  \n",
              "2758  dear sir madam get email d website organisatio...  "
            ],
            "text/html": [
              "\n",
              "  <div id=\"df-7644f6ca-084e-4110-b800-2bf4e2989a23\" class=\"colab-df-container\">\n",
              "    <div>\n",
              "<style scoped>\n",
              "    .dataframe tbody tr th:only-of-type {\n",
              "        vertical-align: middle;\n",
              "    }\n",
              "\n",
              "    .dataframe tbody tr th {\n",
              "        vertical-align: top;\n",
              "    }\n",
              "\n",
              "    .dataframe thead th {\n",
              "        text-align: right;\n",
              "    }\n",
              "</style>\n",
              "<table border=\"1\" class=\"dataframe\">\n",
              "  <thead>\n",
              "    <tr style=\"text-align: right;\">\n",
              "      <th></th>\n",
              "      <th>text</th>\n",
              "      <th>label</th>\n",
              "      <th>cleaned_text</th>\n",
              "    </tr>\n",
              "  </thead>\n",
              "  <tbody>\n",
              "    <tr>\n",
              "      <th>2848</th>\n",
              "      <td>dear free member you were gifted a free member...</td>\n",
              "      <td>1</td>\n",
              "      <td>dear free member gift free membership cash wav...</td>\n",
              "    </tr>\n",
              "    <tr>\n",
              "      <th>317</th>\n",
              "      <td>i think that this and other articles confuse s...</td>\n",
              "      <td>0</td>\n",
              "      <td>think article confuse socialism bureaucracy li...</td>\n",
              "    </tr>\n",
              "    <tr>\n",
              "      <th>1721</th>\n",
              "      <td>greg ward case of headers is definitely helpf...</td>\n",
              "      <td>0</td>\n",
              "      <td>greg ward case header definitely helpful spama...</td>\n",
              "    </tr>\n",
              "    <tr>\n",
              "      <th>1598</th>\n",
              "      <td>i m getting no servers available about half th...</td>\n",
              "      <td>0</td>\n",
              "      <td>m get server available half time day razor num...</td>\n",
              "    </tr>\n",
              "    <tr>\n",
              "      <th>2758</th>\n",
              "      <td>dear sir madam i got this email id from your ...</td>\n",
              "      <td>1</td>\n",
              "      <td>dear sir madam get email d website organisatio...</td>\n",
              "    </tr>\n",
              "  </tbody>\n",
              "</table>\n",
              "</div>\n",
              "    <div class=\"colab-df-buttons\">\n",
              "\n",
              "  <div class=\"colab-df-container\">\n",
              "    <button class=\"colab-df-convert\" onclick=\"convertToInteractive('df-7644f6ca-084e-4110-b800-2bf4e2989a23')\"\n",
              "            title=\"Convert this dataframe to an interactive table.\"\n",
              "            style=\"display:none;\">\n",
              "\n",
              "  <svg xmlns=\"http://www.w3.org/2000/svg\" height=\"24px\" viewBox=\"0 -960 960 960\">\n",
              "    <path d=\"M120-120v-720h720v720H120Zm60-500h600v-160H180v160Zm220 220h160v-160H400v160Zm0 220h160v-160H400v160ZM180-400h160v-160H180v160Zm440 0h160v-160H620v160ZM180-180h160v-160H180v160Zm440 0h160v-160H620v160Z\"/>\n",
              "  </svg>\n",
              "    </button>\n",
              "\n",
              "  <style>\n",
              "    .colab-df-container {\n",
              "      display:flex;\n",
              "      gap: 12px;\n",
              "    }\n",
              "\n",
              "    .colab-df-convert {\n",
              "      background-color: #E8F0FE;\n",
              "      border: none;\n",
              "      border-radius: 50%;\n",
              "      cursor: pointer;\n",
              "      display: none;\n",
              "      fill: #1967D2;\n",
              "      height: 32px;\n",
              "      padding: 0 0 0 0;\n",
              "      width: 32px;\n",
              "    }\n",
              "\n",
              "    .colab-df-convert:hover {\n",
              "      background-color: #E2EBFA;\n",
              "      box-shadow: 0px 1px 2px rgba(60, 64, 67, 0.3), 0px 1px 3px 1px rgba(60, 64, 67, 0.15);\n",
              "      fill: #174EA6;\n",
              "    }\n",
              "\n",
              "    .colab-df-buttons div {\n",
              "      margin-bottom: 4px;\n",
              "    }\n",
              "\n",
              "    [theme=dark] .colab-df-convert {\n",
              "      background-color: #3B4455;\n",
              "      fill: #D2E3FC;\n",
              "    }\n",
              "\n",
              "    [theme=dark] .colab-df-convert:hover {\n",
              "      background-color: #434B5C;\n",
              "      box-shadow: 0px 1px 3px 1px rgba(0, 0, 0, 0.15);\n",
              "      filter: drop-shadow(0px 1px 2px rgba(0, 0, 0, 0.3));\n",
              "      fill: #FFFFFF;\n",
              "    }\n",
              "  </style>\n",
              "\n",
              "    <script>\n",
              "      const buttonEl =\n",
              "        document.querySelector('#df-7644f6ca-084e-4110-b800-2bf4e2989a23 button.colab-df-convert');\n",
              "      buttonEl.style.display =\n",
              "        google.colab.kernel.accessAllowed ? 'block' : 'none';\n",
              "\n",
              "      async function convertToInteractive(key) {\n",
              "        const element = document.querySelector('#df-7644f6ca-084e-4110-b800-2bf4e2989a23');\n",
              "        const dataTable =\n",
              "          await google.colab.kernel.invokeFunction('convertToInteractive',\n",
              "                                                    [key], {});\n",
              "        if (!dataTable) return;\n",
              "\n",
              "        const docLinkHtml = 'Like what you see? Visit the ' +\n",
              "          '<a target=\"_blank\" href=https://colab.research.google.com/notebooks/data_table.ipynb>data table notebook</a>'\n",
              "          + ' to learn more about interactive tables.';\n",
              "        element.innerHTML = '';\n",
              "        dataTable['output_type'] = 'display_data';\n",
              "        await google.colab.output.renderOutput(dataTable, element);\n",
              "        const docLink = document.createElement('div');\n",
              "        docLink.innerHTML = docLinkHtml;\n",
              "        element.appendChild(docLink);\n",
              "      }\n",
              "    </script>\n",
              "  </div>\n",
              "\n",
              "\n",
              "<div id=\"df-325e19af-31f7-4f28-8a9b-974ccdb26a6e\">\n",
              "  <button class=\"colab-df-quickchart\" onclick=\"quickchart('df-325e19af-31f7-4f28-8a9b-974ccdb26a6e')\"\n",
              "            title=\"Suggest charts.\"\n",
              "            style=\"display:none;\">\n",
              "\n",
              "<svg xmlns=\"http://www.w3.org/2000/svg\" height=\"24px\"viewBox=\"0 0 24 24\"\n",
              "     width=\"24px\">\n",
              "    <g>\n",
              "        <path d=\"M19 3H5c-1.1 0-2 .9-2 2v14c0 1.1.9 2 2 2h14c1.1 0 2-.9 2-2V5c0-1.1-.9-2-2-2zM9 17H7v-7h2v7zm4 0h-2V7h2v10zm4 0h-2v-4h2v4z\"/>\n",
              "    </g>\n",
              "</svg>\n",
              "  </button>\n",
              "\n",
              "<style>\n",
              "  .colab-df-quickchart {\n",
              "      --bg-color: #E8F0FE;\n",
              "      --fill-color: #1967D2;\n",
              "      --hover-bg-color: #E2EBFA;\n",
              "      --hover-fill-color: #174EA6;\n",
              "      --disabled-fill-color: #AAA;\n",
              "      --disabled-bg-color: #DDD;\n",
              "  }\n",
              "\n",
              "  [theme=dark] .colab-df-quickchart {\n",
              "      --bg-color: #3B4455;\n",
              "      --fill-color: #D2E3FC;\n",
              "      --hover-bg-color: #434B5C;\n",
              "      --hover-fill-color: #FFFFFF;\n",
              "      --disabled-bg-color: #3B4455;\n",
              "      --disabled-fill-color: #666;\n",
              "  }\n",
              "\n",
              "  .colab-df-quickchart {\n",
              "    background-color: var(--bg-color);\n",
              "    border: none;\n",
              "    border-radius: 50%;\n",
              "    cursor: pointer;\n",
              "    display: none;\n",
              "    fill: var(--fill-color);\n",
              "    height: 32px;\n",
              "    padding: 0;\n",
              "    width: 32px;\n",
              "  }\n",
              "\n",
              "  .colab-df-quickchart:hover {\n",
              "    background-color: var(--hover-bg-color);\n",
              "    box-shadow: 0 1px 2px rgba(60, 64, 67, 0.3), 0 1px 3px 1px rgba(60, 64, 67, 0.15);\n",
              "    fill: var(--button-hover-fill-color);\n",
              "  }\n",
              "\n",
              "  .colab-df-quickchart-complete:disabled,\n",
              "  .colab-df-quickchart-complete:disabled:hover {\n",
              "    background-color: var(--disabled-bg-color);\n",
              "    fill: var(--disabled-fill-color);\n",
              "    box-shadow: none;\n",
              "  }\n",
              "\n",
              "  .colab-df-spinner {\n",
              "    border: 2px solid var(--fill-color);\n",
              "    border-color: transparent;\n",
              "    border-bottom-color: var(--fill-color);\n",
              "    animation:\n",
              "      spin 1s steps(1) infinite;\n",
              "  }\n",
              "\n",
              "  @keyframes spin {\n",
              "    0% {\n",
              "      border-color: transparent;\n",
              "      border-bottom-color: var(--fill-color);\n",
              "      border-left-color: var(--fill-color);\n",
              "    }\n",
              "    20% {\n",
              "      border-color: transparent;\n",
              "      border-left-color: var(--fill-color);\n",
              "      border-top-color: var(--fill-color);\n",
              "    }\n",
              "    30% {\n",
              "      border-color: transparent;\n",
              "      border-left-color: var(--fill-color);\n",
              "      border-top-color: var(--fill-color);\n",
              "      border-right-color: var(--fill-color);\n",
              "    }\n",
              "    40% {\n",
              "      border-color: transparent;\n",
              "      border-right-color: var(--fill-color);\n",
              "      border-top-color: var(--fill-color);\n",
              "    }\n",
              "    60% {\n",
              "      border-color: transparent;\n",
              "      border-right-color: var(--fill-color);\n",
              "    }\n",
              "    80% {\n",
              "      border-color: transparent;\n",
              "      border-right-color: var(--fill-color);\n",
              "      border-bottom-color: var(--fill-color);\n",
              "    }\n",
              "    90% {\n",
              "      border-color: transparent;\n",
              "      border-bottom-color: var(--fill-color);\n",
              "    }\n",
              "  }\n",
              "</style>\n",
              "\n",
              "  <script>\n",
              "    async function quickchart(key) {\n",
              "      const quickchartButtonEl =\n",
              "        document.querySelector('#' + key + ' button');\n",
              "      quickchartButtonEl.disabled = true;  // To prevent multiple clicks.\n",
              "      quickchartButtonEl.classList.add('colab-df-spinner');\n",
              "      try {\n",
              "        const charts = await google.colab.kernel.invokeFunction(\n",
              "            'suggestCharts', [key], {});\n",
              "      } catch (error) {\n",
              "        console.error('Error during call to suggestCharts:', error);\n",
              "      }\n",
              "      quickchartButtonEl.classList.remove('colab-df-spinner');\n",
              "      quickchartButtonEl.classList.add('colab-df-quickchart-complete');\n",
              "    }\n",
              "    (() => {\n",
              "      let quickchartButtonEl =\n",
              "        document.querySelector('#df-325e19af-31f7-4f28-8a9b-974ccdb26a6e button');\n",
              "      quickchartButtonEl.style.display =\n",
              "        google.colab.kernel.accessAllowed ? 'block' : 'none';\n",
              "    })();\n",
              "  </script>\n",
              "</div>\n",
              "    </div>\n",
              "  </div>\n"
            ]
          },
          "metadata": {},
          "execution_count": 37
        }
      ]
    },
    {
      "cell_type": "code",
      "source": [
        "nlp = spacy.load(\"en_core_web_sm\")"
      ],
      "metadata": {
        "id": "59sRx7wExRyH"
      },
      "execution_count": null,
      "outputs": []
    },
    {
      "cell_type": "code",
      "source": [
        "%%time\n",
        "\n",
        "df['cleaned_text'] = df['text'].apply(\n",
        "    lambda x: ' '.join(\n",
        "        token.lemma_.lower() for token in nlp(str(x)) if\n",
        "        not token.is_stop\n",
        "        and not token.is_punct\n",
        "        and not token.is_digit\n",
        "        and not token.like_email\n",
        "        and not token.like_num\n",
        "        and not token.is_space\n",
        "    )\n",
        ")"
      ],
      "metadata": {
        "colab": {
          "base_uri": "https://localhost:8080/"
        },
        "id": "-kTKMUmFxy_7",
        "outputId": "af45c862-7f9b-4c1f-d2db-2e001ecd7376"
      },
      "execution_count": 8,
      "outputs": [
        {
          "output_type": "stream",
          "name": "stdout",
          "text": [
            "CPU times: user 2min 42s, sys: 1.33 s, total: 2min 44s\n",
            "Wall time: 2min 56s\n"
          ]
        }
      ]
    },
    {
      "cell_type": "code",
      "source": [
        "df.sample(5)"
      ],
      "metadata": {
        "colab": {
          "base_uri": "https://localhost:8080/",
          "height": 206
        },
        "id": "hWzr3i4vbU7n",
        "outputId": "6fa11c28-c0ce-40cf-bc24-d1dda1203d6c"
      },
      "execution_count": 9,
      "outputs": [
        {
          "output_type": "execute_result",
          "data": {
            "text/plain": [
              "                                                   text  label  \\\n",
              "1496   URL jm URL changed what removed added status ...      0   \n",
              "1497   URL additional comments from jm URL NUMBER NU...      0   \n",
              "2478   i don t know how one can expect better and mo...      0   \n",
              "705   reminds me of cheney during the vp debates whe...      0   \n",
              "711    begin pgp signed message hash shaNUMBER at NU...      0   \n",
              "\n",
              "                                           cleaned_text  \n",
              "1496  url jm url change remove add status new resolv...  \n",
              "1497  url additional comment jm url number number nu...  \n",
              "2478  don t know expect well secure code community s...  \n",
              "705   remind cheney vp debate declare wealth product...  \n",
              "711   begin pgp sign message hash shanumber number n...  "
            ],
            "text/html": [
              "\n",
              "  <div id=\"df-c832e487-269e-4161-8070-b7023c8ce3ba\" class=\"colab-df-container\">\n",
              "    <div>\n",
              "<style scoped>\n",
              "    .dataframe tbody tr th:only-of-type {\n",
              "        vertical-align: middle;\n",
              "    }\n",
              "\n",
              "    .dataframe tbody tr th {\n",
              "        vertical-align: top;\n",
              "    }\n",
              "\n",
              "    .dataframe thead th {\n",
              "        text-align: right;\n",
              "    }\n",
              "</style>\n",
              "<table border=\"1\" class=\"dataframe\">\n",
              "  <thead>\n",
              "    <tr style=\"text-align: right;\">\n",
              "      <th></th>\n",
              "      <th>text</th>\n",
              "      <th>label</th>\n",
              "      <th>cleaned_text</th>\n",
              "    </tr>\n",
              "  </thead>\n",
              "  <tbody>\n",
              "    <tr>\n",
              "      <th>1496</th>\n",
              "      <td>URL jm URL changed what removed added status ...</td>\n",
              "      <td>0</td>\n",
              "      <td>url jm url change remove add status new resolv...</td>\n",
              "    </tr>\n",
              "    <tr>\n",
              "      <th>1497</th>\n",
              "      <td>URL additional comments from jm URL NUMBER NU...</td>\n",
              "      <td>0</td>\n",
              "      <td>url additional comment jm url number number nu...</td>\n",
              "    </tr>\n",
              "    <tr>\n",
              "      <th>2478</th>\n",
              "      <td>i don t know how one can expect better and mo...</td>\n",
              "      <td>0</td>\n",
              "      <td>don t know expect well secure code community s...</td>\n",
              "    </tr>\n",
              "    <tr>\n",
              "      <th>705</th>\n",
              "      <td>reminds me of cheney during the vp debates whe...</td>\n",
              "      <td>0</td>\n",
              "      <td>remind cheney vp debate declare wealth product...</td>\n",
              "    </tr>\n",
              "    <tr>\n",
              "      <th>711</th>\n",
              "      <td>begin pgp signed message hash shaNUMBER at NU...</td>\n",
              "      <td>0</td>\n",
              "      <td>begin pgp sign message hash shanumber number n...</td>\n",
              "    </tr>\n",
              "  </tbody>\n",
              "</table>\n",
              "</div>\n",
              "    <div class=\"colab-df-buttons\">\n",
              "\n",
              "  <div class=\"colab-df-container\">\n",
              "    <button class=\"colab-df-convert\" onclick=\"convertToInteractive('df-c832e487-269e-4161-8070-b7023c8ce3ba')\"\n",
              "            title=\"Convert this dataframe to an interactive table.\"\n",
              "            style=\"display:none;\">\n",
              "\n",
              "  <svg xmlns=\"http://www.w3.org/2000/svg\" height=\"24px\" viewBox=\"0 -960 960 960\">\n",
              "    <path d=\"M120-120v-720h720v720H120Zm60-500h600v-160H180v160Zm220 220h160v-160H400v160Zm0 220h160v-160H400v160ZM180-400h160v-160H180v160Zm440 0h160v-160H620v160ZM180-180h160v-160H180v160Zm440 0h160v-160H620v160Z\"/>\n",
              "  </svg>\n",
              "    </button>\n",
              "\n",
              "  <style>\n",
              "    .colab-df-container {\n",
              "      display:flex;\n",
              "      gap: 12px;\n",
              "    }\n",
              "\n",
              "    .colab-df-convert {\n",
              "      background-color: #E8F0FE;\n",
              "      border: none;\n",
              "      border-radius: 50%;\n",
              "      cursor: pointer;\n",
              "      display: none;\n",
              "      fill: #1967D2;\n",
              "      height: 32px;\n",
              "      padding: 0 0 0 0;\n",
              "      width: 32px;\n",
              "    }\n",
              "\n",
              "    .colab-df-convert:hover {\n",
              "      background-color: #E2EBFA;\n",
              "      box-shadow: 0px 1px 2px rgba(60, 64, 67, 0.3), 0px 1px 3px 1px rgba(60, 64, 67, 0.15);\n",
              "      fill: #174EA6;\n",
              "    }\n",
              "\n",
              "    .colab-df-buttons div {\n",
              "      margin-bottom: 4px;\n",
              "    }\n",
              "\n",
              "    [theme=dark] .colab-df-convert {\n",
              "      background-color: #3B4455;\n",
              "      fill: #D2E3FC;\n",
              "    }\n",
              "\n",
              "    [theme=dark] .colab-df-convert:hover {\n",
              "      background-color: #434B5C;\n",
              "      box-shadow: 0px 1px 3px 1px rgba(0, 0, 0, 0.15);\n",
              "      filter: drop-shadow(0px 1px 2px rgba(0, 0, 0, 0.3));\n",
              "      fill: #FFFFFF;\n",
              "    }\n",
              "  </style>\n",
              "\n",
              "    <script>\n",
              "      const buttonEl =\n",
              "        document.querySelector('#df-c832e487-269e-4161-8070-b7023c8ce3ba button.colab-df-convert');\n",
              "      buttonEl.style.display =\n",
              "        google.colab.kernel.accessAllowed ? 'block' : 'none';\n",
              "\n",
              "      async function convertToInteractive(key) {\n",
              "        const element = document.querySelector('#df-c832e487-269e-4161-8070-b7023c8ce3ba');\n",
              "        const dataTable =\n",
              "          await google.colab.kernel.invokeFunction('convertToInteractive',\n",
              "                                                    [key], {});\n",
              "        if (!dataTable) return;\n",
              "\n",
              "        const docLinkHtml = 'Like what you see? Visit the ' +\n",
              "          '<a target=\"_blank\" href=https://colab.research.google.com/notebooks/data_table.ipynb>data table notebook</a>'\n",
              "          + ' to learn more about interactive tables.';\n",
              "        element.innerHTML = '';\n",
              "        dataTable['output_type'] = 'display_data';\n",
              "        await google.colab.output.renderOutput(dataTable, element);\n",
              "        const docLink = document.createElement('div');\n",
              "        docLink.innerHTML = docLinkHtml;\n",
              "        element.appendChild(docLink);\n",
              "      }\n",
              "    </script>\n",
              "  </div>\n",
              "\n",
              "\n",
              "<div id=\"df-e63800bd-daef-46d4-8442-85232e82a93c\">\n",
              "  <button class=\"colab-df-quickchart\" onclick=\"quickchart('df-e63800bd-daef-46d4-8442-85232e82a93c')\"\n",
              "            title=\"Suggest charts.\"\n",
              "            style=\"display:none;\">\n",
              "\n",
              "<svg xmlns=\"http://www.w3.org/2000/svg\" height=\"24px\"viewBox=\"0 0 24 24\"\n",
              "     width=\"24px\">\n",
              "    <g>\n",
              "        <path d=\"M19 3H5c-1.1 0-2 .9-2 2v14c0 1.1.9 2 2 2h14c1.1 0 2-.9 2-2V5c0-1.1-.9-2-2-2zM9 17H7v-7h2v7zm4 0h-2V7h2v10zm4 0h-2v-4h2v4z\"/>\n",
              "    </g>\n",
              "</svg>\n",
              "  </button>\n",
              "\n",
              "<style>\n",
              "  .colab-df-quickchart {\n",
              "      --bg-color: #E8F0FE;\n",
              "      --fill-color: #1967D2;\n",
              "      --hover-bg-color: #E2EBFA;\n",
              "      --hover-fill-color: #174EA6;\n",
              "      --disabled-fill-color: #AAA;\n",
              "      --disabled-bg-color: #DDD;\n",
              "  }\n",
              "\n",
              "  [theme=dark] .colab-df-quickchart {\n",
              "      --bg-color: #3B4455;\n",
              "      --fill-color: #D2E3FC;\n",
              "      --hover-bg-color: #434B5C;\n",
              "      --hover-fill-color: #FFFFFF;\n",
              "      --disabled-bg-color: #3B4455;\n",
              "      --disabled-fill-color: #666;\n",
              "  }\n",
              "\n",
              "  .colab-df-quickchart {\n",
              "    background-color: var(--bg-color);\n",
              "    border: none;\n",
              "    border-radius: 50%;\n",
              "    cursor: pointer;\n",
              "    display: none;\n",
              "    fill: var(--fill-color);\n",
              "    height: 32px;\n",
              "    padding: 0;\n",
              "    width: 32px;\n",
              "  }\n",
              "\n",
              "  .colab-df-quickchart:hover {\n",
              "    background-color: var(--hover-bg-color);\n",
              "    box-shadow: 0 1px 2px rgba(60, 64, 67, 0.3), 0 1px 3px 1px rgba(60, 64, 67, 0.15);\n",
              "    fill: var(--button-hover-fill-color);\n",
              "  }\n",
              "\n",
              "  .colab-df-quickchart-complete:disabled,\n",
              "  .colab-df-quickchart-complete:disabled:hover {\n",
              "    background-color: var(--disabled-bg-color);\n",
              "    fill: var(--disabled-fill-color);\n",
              "    box-shadow: none;\n",
              "  }\n",
              "\n",
              "  .colab-df-spinner {\n",
              "    border: 2px solid var(--fill-color);\n",
              "    border-color: transparent;\n",
              "    border-bottom-color: var(--fill-color);\n",
              "    animation:\n",
              "      spin 1s steps(1) infinite;\n",
              "  }\n",
              "\n",
              "  @keyframes spin {\n",
              "    0% {\n",
              "      border-color: transparent;\n",
              "      border-bottom-color: var(--fill-color);\n",
              "      border-left-color: var(--fill-color);\n",
              "    }\n",
              "    20% {\n",
              "      border-color: transparent;\n",
              "      border-left-color: var(--fill-color);\n",
              "      border-top-color: var(--fill-color);\n",
              "    }\n",
              "    30% {\n",
              "      border-color: transparent;\n",
              "      border-left-color: var(--fill-color);\n",
              "      border-top-color: var(--fill-color);\n",
              "      border-right-color: var(--fill-color);\n",
              "    }\n",
              "    40% {\n",
              "      border-color: transparent;\n",
              "      border-right-color: var(--fill-color);\n",
              "      border-top-color: var(--fill-color);\n",
              "    }\n",
              "    60% {\n",
              "      border-color: transparent;\n",
              "      border-right-color: var(--fill-color);\n",
              "    }\n",
              "    80% {\n",
              "      border-color: transparent;\n",
              "      border-right-color: var(--fill-color);\n",
              "      border-bottom-color: var(--fill-color);\n",
              "    }\n",
              "    90% {\n",
              "      border-color: transparent;\n",
              "      border-bottom-color: var(--fill-color);\n",
              "    }\n",
              "  }\n",
              "</style>\n",
              "\n",
              "  <script>\n",
              "    async function quickchart(key) {\n",
              "      const quickchartButtonEl =\n",
              "        document.querySelector('#' + key + ' button');\n",
              "      quickchartButtonEl.disabled = true;  // To prevent multiple clicks.\n",
              "      quickchartButtonEl.classList.add('colab-df-spinner');\n",
              "      try {\n",
              "        const charts = await google.colab.kernel.invokeFunction(\n",
              "            'suggestCharts', [key], {});\n",
              "      } catch (error) {\n",
              "        console.error('Error during call to suggestCharts:', error);\n",
              "      }\n",
              "      quickchartButtonEl.classList.remove('colab-df-spinner');\n",
              "      quickchartButtonEl.classList.add('colab-df-quickchart-complete');\n",
              "    }\n",
              "    (() => {\n",
              "      let quickchartButtonEl =\n",
              "        document.querySelector('#df-e63800bd-daef-46d4-8442-85232e82a93c button');\n",
              "      quickchartButtonEl.style.display =\n",
              "        google.colab.kernel.accessAllowed ? 'block' : 'none';\n",
              "    })();\n",
              "  </script>\n",
              "</div>\n",
              "    </div>\n",
              "  </div>\n"
            ]
          },
          "metadata": {},
          "execution_count": 9
        }
      ]
    },
    {
      "cell_type": "code",
      "source": [
        "df['cleaned_text'].replace('', str(np.nan), inplace=True)"
      ],
      "metadata": {
        "id": "5O05IxE3ZaA1"
      },
      "execution_count": 10,
      "outputs": []
    },
    {
      "cell_type": "code",
      "source": [
        "dataset = [text.split() for text in df.cleaned_text.values]"
      ],
      "metadata": {
        "id": "Pf4m5Z8t1rRX"
      },
      "execution_count": 11,
      "outputs": []
    },
    {
      "cell_type": "code",
      "source": [
        "dataset[111][:10]"
      ],
      "metadata": {
        "colab": {
          "base_uri": "https://localhost:8080/"
        },
        "id": "cJ-SqDStrdsa",
        "outputId": "e300e98e-f14b-4ad3-d30b-04ef568d22fd"
      },
      "execution_count": 34,
      "outputs": [
        {
          "output_type": "execute_result",
          "data": {
            "text/plain": [
              "['have',\n",
              " 'great',\n",
              " 'fun',\n",
              " 'try',\n",
              " 'find',\n",
              " 'dumb',\n",
              " 'adsl',\n",
              " 'modem',\n",
              " 'ethernet',\n",
              " 'presentation']"
            ]
          },
          "metadata": {},
          "execution_count": 34
        }
      ]
    },
    {
      "cell_type": "markdown",
      "source": [
        "# Создание моделей и их сравнение с помощью внутренней оценки"
      ],
      "metadata": {
        "id": "fzStlfhi9GSu"
      }
    },
    {
      "cell_type": "markdown",
      "source": [
        "## Word2Vec"
      ],
      "metadata": {
        "id": "OdXR0PLMzRTa"
      }
    },
    {
      "cell_type": "markdown",
      "source": [
        "### SkipGram"
      ],
      "metadata": {
        "id": "JRkQEPXEmCYI"
      }
    },
    {
      "cell_type": "code",
      "source": [
        "%%time\n",
        "\n",
        "model_skipGram = gensim.models.Word2Vec(\n",
        "    sentences=dataset,\n",
        "    vector_size=256,\n",
        "    window=3,\n",
        "    min_count=10,\n",
        "    sg=1, # 1 for skip-gram\n",
        "    hs=0,\n",
        "    negative=5,\n",
        "    epochs=25,\n",
        "    seed=RANDOM_STATE,\n",
        ")"
      ],
      "metadata": {
        "colab": {
          "base_uri": "https://localhost:8080/"
        },
        "id": "ahpN0Exd0r6m",
        "outputId": "5417eaf8-c220-48e9-c9ed-d11d9807b6bb"
      },
      "execution_count": 12,
      "outputs": [
        {
          "output_type": "stream",
          "name": "stdout",
          "text": [
            "CPU times: user 1min 17s, sys: 286 ms, total: 1min 17s\n",
            "Wall time: 48.3 s\n"
          ]
        }
      ]
    },
    {
      "cell_type": "code",
      "source": [
        "model_skipGram.wv.most_similar(positive=['january'])"
      ],
      "metadata": {
        "colab": {
          "base_uri": "https://localhost:8080/"
        },
        "id": "nZ9ue3yS48VE",
        "outputId": "76f00800-ffdc-4889-bae9-91ccd43d8957"
      },
      "execution_count": 13,
      "outputs": [
        {
          "output_type": "execute_result",
          "data": {
            "text/plain": [
              "[('christmas', 0.4056288003921509),\n",
              " ('guardian', 0.3988199830055237),\n",
              " ('t_html_consec_imgsnumber', 0.3905406594276428),\n",
              " ('japan', 0.39043235778808594),\n",
              " ('t_html_image_areanumber', 0.3893399238586426),\n",
              " ('carolina', 0.38749414682388306),\n",
              " ('council', 0.38148215413093567),\n",
              " ('rafael', 0.3795776069164276),\n",
              " ('sheep', 0.3770703971385956),\n",
              " ('cabinet', 0.37689781188964844)]"
            ]
          },
          "metadata": {},
          "execution_count": 13
        }
      ]
    },
    {
      "cell_type": "code",
      "source": [
        "model_skipGram.wv.most_similar(positive=['computer'])"
      ],
      "metadata": {
        "colab": {
          "base_uri": "https://localhost:8080/"
        },
        "id": "Z327YK9D5_o4",
        "outputId": "2703c28c-9290-4725-ece6-c566ed3bbeb5"
      },
      "execution_count": 14,
      "outputs": [
        {
          "output_type": "execute_result",
          "data": {
            "text/plain": [
              "[('picasso', 0.4979810416698456),\n",
              " ('pablo', 0.4911339282989502),\n",
              " ('hazardous', 0.4523615539073944),\n",
              " ('useless', 0.4129263758659363),\n",
              " ('biz', 0.4026617407798767),\n",
              " ('science', 0.3634575307369232),\n",
              " ('communications', 0.36008220911026),\n",
              " ('teledynamic', 0.35942184925079346),\n",
              " ('unwanted', 0.3520834147930145),\n",
              " ('academic', 0.3517932891845703)]"
            ]
          },
          "metadata": {},
          "execution_count": 14
        }
      ]
    },
    {
      "cell_type": "code",
      "source": [
        "model_skipGram.wv.most_similar(positive=['winter'])"
      ],
      "metadata": {
        "colab": {
          "base_uri": "https://localhost:8080/"
        },
        "id": "9nFACaQR6X09",
        "outputId": "b6c31819-4eea-45a3-cdcf-3a8df6df611e"
      },
      "execution_count": 15,
      "outputs": [
        {
          "output_type": "execute_result",
          "data": {
            "text/plain": [
              "[('hill', 0.5493069291114807),\n",
              " ('altitude', 0.5397081971168518),\n",
              " ('statue', 0.5253927111625671),\n",
              " ('warm', 0.5026311278343201),\n",
              " ('marriott', 0.4996064305305481),\n",
              " ('dry', 0.49276405572891235),\n",
              " ('helium', 0.48235368728637695),\n",
              " ('casualty', 0.4789895713329315),\n",
              " ('season', 0.4772513508796692),\n",
              " ('beach', 0.4772185683250427)]"
            ]
          },
          "metadata": {},
          "execution_count": 15
        }
      ]
    },
    {
      "cell_type": "code",
      "source": [
        "model_skipGram.wv.doesnt_match(['winter', 'january', 'computer'])"
      ],
      "metadata": {
        "colab": {
          "base_uri": "https://localhost:8080/",
          "height": 35
        },
        "id": "fnwJrfbL8FSZ",
        "outputId": "2af0d58b-0cb3-4c9e-ee45-e0d518c4ec70"
      },
      "execution_count": 16,
      "outputs": [
        {
          "output_type": "execute_result",
          "data": {
            "text/plain": [
              "'computer'"
            ],
            "application/vnd.google.colaboratory.intrinsic+json": {
              "type": "string"
            }
          },
          "metadata": {},
          "execution_count": 16
        }
      ]
    },
    {
      "cell_type": "markdown",
      "source": [
        "### CBOW"
      ],
      "metadata": {
        "id": "wEU5OKbRl_ox"
      }
    },
    {
      "cell_type": "code",
      "source": [
        "%%time\n",
        "\n",
        "model_cbow = gensim.models.Word2Vec(\n",
        "    sentences=dataset,\n",
        "    vector_size=256,\n",
        "    window=3,\n",
        "    min_count=10,\n",
        "    sg=0, # 0 for CBOW\n",
        "    hs=0,\n",
        "    negative=5,\n",
        "    epochs=25,\n",
        "    seed=RANDOM_STATE,\n",
        ")"
      ],
      "metadata": {
        "colab": {
          "base_uri": "https://localhost:8080/"
        },
        "id": "P4NDhOd56wJv",
        "outputId": "7d1ed058-d409-419d-ef61-71776e1d9230"
      },
      "execution_count": 17,
      "outputs": [
        {
          "output_type": "stream",
          "name": "stdout",
          "text": [
            "CPU times: user 27.9 s, sys: 237 ms, total: 28.2 s\n",
            "Wall time: 17.3 s\n"
          ]
        }
      ]
    },
    {
      "cell_type": "code",
      "source": [
        "model_cbow.wv.most_similar(positive=['winter'])"
      ],
      "metadata": {
        "colab": {
          "base_uri": "https://localhost:8080/"
        },
        "id": "fyuJG85T65s3",
        "outputId": "50980a72-becd-4e98-a679-db0884e1fe96"
      },
      "execution_count": 18,
      "outputs": [
        {
          "output_type": "execute_result",
          "data": {
            "text/plain": [
              "[('southern', 0.7143707871437073),\n",
              " ('italian', 0.6795506477355957),\n",
              " ('west', 0.6783661246299744),\n",
              " ('helium', 0.6709034442901611),\n",
              " ('era', 0.6695430874824524),\n",
              " ('asia', 0.6629147529602051),\n",
              " ('wind', 0.6604577302932739),\n",
              " ('sea', 0.6580536961555481),\n",
              " ('warm', 0.6575800776481628),\n",
              " ('northern', 0.6552695035934448)]"
            ]
          },
          "metadata": {},
          "execution_count": 18
        }
      ]
    },
    {
      "cell_type": "code",
      "source": [
        "model_cbow.wv.most_similar(positive=['computer'])"
      ],
      "metadata": {
        "colab": {
          "base_uri": "https://localhost:8080/"
        },
        "id": "npej2btEdwPz",
        "outputId": "fece3164-0996-46c0-80d4-7a193b19e894"
      },
      "execution_count": 19,
      "outputs": [
        {
          "output_type": "execute_result",
          "data": {
            "text/plain": [
              "[('virus', 0.4828771650791168),\n",
              " ('useless', 0.4752280116081238),\n",
              " ('vulnerable', 0.46516263484954834),\n",
              " ('science', 0.44851550459861755),\n",
              " ('crack', 0.4475710988044739),\n",
              " ('hacker', 0.42553094029426575),\n",
              " ('hazardous', 0.423048734664917),\n",
              " ('biz', 0.41948097944259644),\n",
              " ('whatsoever', 0.4137769341468811),\n",
              " ('unwanted', 0.4134383797645569)]"
            ]
          },
          "metadata": {},
          "execution_count": 19
        }
      ]
    },
    {
      "cell_type": "markdown",
      "source": [
        "## Fasttext"
      ],
      "metadata": {
        "id": "HhrrJD-q8AsA"
      }
    },
    {
      "cell_type": "code",
      "source": [
        "with open('data.txt', 'w') as f:\n",
        "    f.writelines(df.cleaned_text.values)"
      ],
      "metadata": {
        "id": "X5jKmkiv9B17"
      },
      "execution_count": 20,
      "outputs": []
    },
    {
      "cell_type": "code",
      "source": [
        "%%time\n",
        "\n",
        "model_fasttext = fasttext.train_unsupervised('data.txt', wordNgrams=3, dim=256)"
      ],
      "metadata": {
        "colab": {
          "base_uri": "https://localhost:8080/"
        },
        "id": "tLOzAyu99jln",
        "outputId": "875601c8-48de-4796-9d8a-99d9ef5410c5"
      },
      "execution_count": 21,
      "outputs": [
        {
          "output_type": "stream",
          "name": "stdout",
          "text": [
            "CPU times: user 2min 27s, sys: 1.74 s, total: 2min 28s\n",
            "Wall time: 2min 30s\n"
          ]
        }
      ]
    },
    {
      "cell_type": "code",
      "source": [
        "model_fasttext.get_nearest_neighbors('computer')"
      ],
      "metadata": {
        "colab": {
          "base_uri": "https://localhost:8080/"
        },
        "id": "dODlsUEh90U-",
        "outputId": "f6c03b69-04ba-4474-8293-a3587679552c"
      },
      "execution_count": 22,
      "outputs": [
        {
          "output_type": "execute_result",
          "data": {
            "text/plain": [
              "[(0.9223428964614868, 'compute'),\n",
              " (0.8154644966125488, 'computing'),\n",
              " (0.8139657378196716, 'wireless'),\n",
              " (0.8046521544456482, 'answer'),\n",
              " (0.7977580428123474, 'collaborate'),\n",
              " (0.7914772629737854, 'useless'),\n",
              " (0.7876890301704407, 'storage'),\n",
              " (0.7873976230621338, 'scalable'),\n",
              " (0.7794970870018005, 'dynamic'),\n",
              " (0.7704171538352966, 'nonetheless')]"
            ]
          },
          "metadata": {},
          "execution_count": 22
        }
      ]
    },
    {
      "cell_type": "markdown",
      "source": [
        "Вывод:\n",
        "\n",
        "Модели показывают неплохие результаты.\n",
        "\n",
        "В Word2Vec для CBOW заметен более хорошие результат.\n"
      ],
      "metadata": {
        "id": "YkikQJla-Ire"
      }
    },
    {
      "cell_type": "markdown",
      "source": [
        "# Сравнение качества на полученных векторах"
      ],
      "metadata": {
        "id": "jCdR4WDfAwzE"
      }
    },
    {
      "cell_type": "code",
      "source": [
        "X_train, X_test, y_train, y_test = train_test_split(df['cleaned_text'], df['label'], random_state=RANDOM_STATE)"
      ],
      "metadata": {
        "id": "5NbsBfqahoBw"
      },
      "execution_count": 23,
      "outputs": []
    },
    {
      "cell_type": "code",
      "source": [
        "class MyTransformer():\n",
        "    def __init__(self, model):\n",
        "        self.model = model\n",
        "\n",
        "    def fit(self, X, y=None):\n",
        "        return self # модель уже обучена\n",
        "\n",
        "    def transform(self, X):\n",
        "        X_copy = X.apply(self.text2vector)\n",
        "        return pd.DataFrame(X_copy.to_list())\n",
        "\n",
        "    def text2vector(self, text):\n",
        "        pass"
      ],
      "metadata": {
        "id": "rVe5P7QWirQ7"
      },
      "execution_count": 24,
      "outputs": []
    },
    {
      "cell_type": "markdown",
      "source": [
        "## Word2Vec"
      ],
      "metadata": {
        "id": "GiiXGu0ZnNm5"
      }
    },
    {
      "cell_type": "code",
      "source": [
        "class Word2VecTransformer(MyTransformer):\n",
        "    def __init__(self, model):\n",
        "        super().__init__(model)\n",
        "\n",
        "    def text2vector(self, text):\n",
        "        vec = []\n",
        "        for w in text.split():\n",
        "            try:\n",
        "                emb_for_word = self.model.wv[w]\n",
        "            except KeyError:\n",
        "                emb_for_word = np.zeros(256)\n",
        "            vec.append(np.array(emb_for_word))\n",
        "        text_vec = np.sum(vec, axis=0)\n",
        "        return text_vec"
      ],
      "metadata": {
        "id": "KZQ-sN2y_HXv"
      },
      "execution_count": 27,
      "outputs": []
    },
    {
      "cell_type": "code",
      "source": [
        "pipe_skipgram = Pipeline([\n",
        "    ('ft', Word2VecTransformer(model_skipGram)),\n",
        "    ('clf', LogisticRegression(random_state=RANDOM_STATE)),\n",
        "]).fit(X_train, y_train)"
      ],
      "metadata": {
        "id": "tlrwsNepAQq9"
      },
      "execution_count": null,
      "outputs": []
    },
    {
      "cell_type": "code",
      "source": [
        "pipe_cbow = Pipeline([\n",
        "    ('ft', Word2VecTransformer(model_cbow)),\n",
        "    ('clf', LogisticRegression(random_state=RANDOM_STATE)),\n",
        "]).fit(X_train, y_train)"
      ],
      "metadata": {
        "id": "VWfqAXIXCtmC"
      },
      "execution_count": null,
      "outputs": []
    },
    {
      "cell_type": "markdown",
      "source": [
        "## Fasttext"
      ],
      "metadata": {
        "id": "ENUAGwRYnLZi"
      }
    },
    {
      "cell_type": "code",
      "source": [
        "class FastTextTransformer(MyTransformer):\n",
        "    def __init__(self, model):\n",
        "        super().__init__(model)\n",
        "\n",
        "    def text2vector(self, text):\n",
        "        vec = [np.array(self.model.get_word_vector(w)) for w in text.split()]\n",
        "        text_vec = np.sum(vec, axis=0)\n",
        "        return text_vec"
      ],
      "metadata": {
        "id": "NFaGOb1Vz0bq"
      },
      "execution_count": 25,
      "outputs": []
    },
    {
      "cell_type": "code",
      "source": [
        "pipe_fasttext = Pipeline([\n",
        "    ('ft', FastTextTransformer(model_fasttext)),\n",
        "    ('clf', LogisticRegression(random_state=RANDOM_STATE)),\n",
        "]).fit(X_train, y_train)"
      ],
      "metadata": {
        "id": "rAas8LGXDot1"
      },
      "execution_count": null,
      "outputs": []
    },
    {
      "cell_type": "markdown",
      "source": [
        "## Итог"
      ],
      "metadata": {
        "id": "R_CmEBJZnTti"
      }
    },
    {
      "cell_type": "code",
      "source": [
        "print(classification_report(y_test, pipe_skipgram.predict(X_test)))"
      ],
      "metadata": {
        "colab": {
          "base_uri": "https://localhost:8080/"
        },
        "id": "_5lFt0X3CclA",
        "outputId": "1efa6885-e399-416b-959f-0583a14551f1"
      },
      "execution_count": 30,
      "outputs": [
        {
          "output_type": "stream",
          "name": "stdout",
          "text": [
            "              precision    recall  f1-score   support\n",
            "\n",
            "           0       0.99      0.99      0.99       642\n",
            "           1       0.94      0.95      0.94       108\n",
            "\n",
            "    accuracy                           0.98       750\n",
            "   macro avg       0.96      0.97      0.97       750\n",
            "weighted avg       0.98      0.98      0.98       750\n",
            "\n"
          ]
        }
      ]
    },
    {
      "cell_type": "code",
      "source": [
        "print(classification_report(y_test, pipe_cbow.predict(X_test)))"
      ],
      "metadata": {
        "colab": {
          "base_uri": "https://localhost:8080/"
        },
        "id": "hOrcXY9zC2cs",
        "outputId": "f08b274f-131f-441f-8f0e-c75ddded8b8f"
      },
      "execution_count": 31,
      "outputs": [
        {
          "output_type": "stream",
          "name": "stdout",
          "text": [
            "              precision    recall  f1-score   support\n",
            "\n",
            "           0       0.99      0.99      0.99       642\n",
            "           1       0.92      0.96      0.94       108\n",
            "\n",
            "    accuracy                           0.98       750\n",
            "   macro avg       0.96      0.97      0.97       750\n",
            "weighted avg       0.98      0.98      0.98       750\n",
            "\n"
          ]
        }
      ]
    },
    {
      "cell_type": "code",
      "source": [
        "print(classification_report(y_test, pipe_fasttext.predict(X_test)))"
      ],
      "metadata": {
        "colab": {
          "base_uri": "https://localhost:8080/"
        },
        "id": "h35WEkdeDred",
        "outputId": "fcb7bb5f-3f0d-4165-fa7f-fbde481404fa"
      },
      "execution_count": 32,
      "outputs": [
        {
          "output_type": "stream",
          "name": "stdout",
          "text": [
            "              precision    recall  f1-score   support\n",
            "\n",
            "           0       0.97      0.95      0.96       642\n",
            "           1       0.73      0.81      0.77       108\n",
            "\n",
            "    accuracy                           0.93       750\n",
            "   macro avg       0.85      0.88      0.86       750\n",
            "weighted avg       0.93      0.93      0.93       750\n",
            "\n"
          ]
        }
      ]
    },
    {
      "cell_type": "markdown",
      "source": [
        "Вывод:\n",
        "\n",
        "В задаче определения спама по моему мнению стоит выбрать CBOW из-за наибольшего значения recall по классу 1."
      ],
      "metadata": {
        "id": "5_Y94GeDDg6W"
      }
    }
  ]
}